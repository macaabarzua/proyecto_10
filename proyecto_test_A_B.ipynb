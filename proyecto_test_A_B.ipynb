{
 "cells": [
  {
   "cell_type": "markdown",
   "metadata": {},
   "source": [
    "Hola **Macarena**!\n",
    "\n",
    "Soy **Patricio Requena** 👋. Es un placer ser el revisor de tu proyecto el día de hoy!\n",
    "\n",
    "Revisaré tu proyecto detenidamente con el objetivo de ayudarte a mejorar y perfeccionar tus habilidades. Durante mi revisión, identificaré áreas donde puedas hacer mejoras en tu código, señalando específicamente qué y cómo podrías ajustar para optimizar el rendimiento y la claridad de tu proyecto. Además, es importante para mí destacar los aspectos que has manejado excepcionalmente bien. Reconocer tus fortalezas te ayudará a entender qué técnicas y métodos están funcionando a tu favor y cómo puedes aplicarlos en futuras tareas. \n",
    "\n",
    "_**Recuerda que al final de este notebook encontrarás un comentario general de mi parte**_, empecemos!\n",
    "\n",
    "Encontrarás mis comentarios dentro de cajas verdes, amarillas o rojas, ⚠️ **por favor, no muevas, modifiques o borres mis comentarios** ⚠️:\n",
    "\n",
    "\n",
    "<div class=\"alert alert-block alert-success\">\n",
    "<b>Comentario del revisor</b> <a class=“tocSkip”></a>\n",
    "Si todo está perfecto.\n",
    "</div>\n",
    "\n",
    "<div class=\"alert alert-block alert-warning\">\n",
    "<b>Comentario del revisor</b> <a class=“tocSkip”></a>\n",
    "Si tu código está bien pero se puede mejorar o hay algún detalle que le hace falta.\n",
    "</div>\n",
    "\n",
    "<div class=\"alert alert-block alert-danger\">\n",
    "<b>Comentario del revisor</b> <a class=“tocSkip”></a>\n",
    "Si de pronto hace falta algo o existe algún problema con tu código o conclusiones.\n",
    "</div>\n",
    "\n",
    "Puedes responderme de esta forma:\n",
    "<div class=\"alert alert-block alert-info\">\n",
    "<b>Respuesta del estudiante</b> <a class=“tocSkip”></a>\n",
    "</div>"
   ]
  },
  {
   "cell_type": "markdown",
   "metadata": {},
   "source": [
    "# Proyecto 10: Tomar decisiones de negocio basadas en datos"
   ]
  },
  {
   "cell_type": "markdown",
   "metadata": {},
   "source": [
    "## Introducción"
   ]
  },
  {
   "cell_type": "markdown",
   "metadata": {},
   "source": [
    "Junto con el departamento de marketing de una gran tienda online, se ha recopilado una lista de hipótesis que pueden ayudar a aumentar los ingresos.\n",
    "Se priorizarán estas hipótesis y se realizará un test A/B para posteriormente analizar los resultados."
   ]
  },
  {
   "cell_type": "markdown",
   "metadata": {},
   "source": [
    "## Descripción de los datos"
   ]
  },
  {
   "cell_type": "markdown",
   "metadata": {},
   "source": [
    "La tabla *hypotheses* para la primera parte del proyecto contiene:  \n",
    "\n",
    "- hypotheses: breves descripciones de las hipótesis.\n",
    "- reach: alcance del usuario, en una escala del 1 al 10.\n",
    "- impact: impacto en los usuarios, en una escala del 1 al 10.\n",
    "- confidence: confianza en la hipótesis, en una escala del 1 al 10.\n",
    "- effort: los recursos necesarios para probar una hipótesis, en una escala del 1 al 10. Cuanto mayor sea el valor Effort, más recursos requiere la prueba.  \n",
    "\n",
    "Para la segunda parte del proyecto, se utilizarán las tablas *orders* y *visits*:  \n",
    "\n",
    "Orders:\n",
    "- transactionId: identificador de pedido.\n",
    "- visitorId: identificador del usuario que realizó el pedido.\n",
    "- date: fecha del pedido.\n",
    "- revenue: ingresos del pedido.\n",
    "- group: el grupo del test A/B al que pertenece el usuario.\n",
    "\n",
    "Visits:\n",
    "- date: la fecha.\n",
    "- group: grupo de la prueba A/B.\n",
    "- visits: el número de visitas en la fecha especificada en el grupo de pruebas A/B especificado."
   ]
  },
  {
   "cell_type": "markdown",
   "metadata": {},
   "source": [
    "<div class=\"alert alert-block alert-success\">\n",
    "<b>Comentario del revisor (1ra Iteracion)</b> <a class=“tocSkip”></a>\n",
    "\n",
    "Excelente trabajo incluyendo la tabla de contenidos y la redacción de la introducción! Procura mantener esta práctica en tus próximos proyectos ya que esto ayuda a entender el objetivo del proyecto\n",
    "</div>"
   ]
  },
  {
   "cell_type": "markdown",
   "metadata": {},
   "source": [
    "## Importar librerías"
   ]
  },
  {
   "cell_type": "code",
   "execution_count": 1,
   "metadata": {},
   "outputs": [],
   "source": [
    "import pandas as pd\n",
    "import numpy as np\n",
    "import matplotlib.pyplot as plt\n",
    "import scipy.stats as st\n",
    "import datetime as dt"
   ]
  },
  {
   "cell_type": "code",
   "execution_count": 2,
   "metadata": {},
   "outputs": [],
   "source": [
    "# Cargar datos de las hipotesis\n",
    "hypotheses = pd.read_csv('/datasets/hypotheses_us.csv', sep=';')"
   ]
  },
  {
   "cell_type": "code",
   "execution_count": 3,
   "metadata": {},
   "outputs": [
    {
     "data": {
      "text/html": [
       "<div>\n",
       "<style scoped>\n",
       "    .dataframe tbody tr th:only-of-type {\n",
       "        vertical-align: middle;\n",
       "    }\n",
       "\n",
       "    .dataframe tbody tr th {\n",
       "        vertical-align: top;\n",
       "    }\n",
       "\n",
       "    .dataframe thead th {\n",
       "        text-align: right;\n",
       "    }\n",
       "</style>\n",
       "<table border=\"1\" class=\"dataframe\">\n",
       "  <thead>\n",
       "    <tr style=\"text-align: right;\">\n",
       "      <th></th>\n",
       "      <th>Hypothesis</th>\n",
       "      <th>Reach</th>\n",
       "      <th>Impact</th>\n",
       "      <th>Confidence</th>\n",
       "      <th>Effort</th>\n",
       "    </tr>\n",
       "  </thead>\n",
       "  <tbody>\n",
       "    <tr>\n",
       "      <th>0</th>\n",
       "      <td>Add two new channels for attracting traffic. T...</td>\n",
       "      <td>3</td>\n",
       "      <td>10</td>\n",
       "      <td>8</td>\n",
       "      <td>6</td>\n",
       "    </tr>\n",
       "    <tr>\n",
       "      <th>1</th>\n",
       "      <td>Launch your own delivery service. This will sh...</td>\n",
       "      <td>2</td>\n",
       "      <td>5</td>\n",
       "      <td>4</td>\n",
       "      <td>10</td>\n",
       "    </tr>\n",
       "    <tr>\n",
       "      <th>2</th>\n",
       "      <td>Add product recommendation blocks to the store...</td>\n",
       "      <td>8</td>\n",
       "      <td>3</td>\n",
       "      <td>7</td>\n",
       "      <td>3</td>\n",
       "    </tr>\n",
       "    <tr>\n",
       "      <th>3</th>\n",
       "      <td>Change the category structure. This will incre...</td>\n",
       "      <td>8</td>\n",
       "      <td>3</td>\n",
       "      <td>3</td>\n",
       "      <td>8</td>\n",
       "    </tr>\n",
       "    <tr>\n",
       "      <th>4</th>\n",
       "      <td>Change the background color on the main page. ...</td>\n",
       "      <td>3</td>\n",
       "      <td>1</td>\n",
       "      <td>1</td>\n",
       "      <td>1</td>\n",
       "    </tr>\n",
       "    <tr>\n",
       "      <th>5</th>\n",
       "      <td>Add a customer review page. This will increase...</td>\n",
       "      <td>3</td>\n",
       "      <td>2</td>\n",
       "      <td>2</td>\n",
       "      <td>3</td>\n",
       "    </tr>\n",
       "    <tr>\n",
       "      <th>6</th>\n",
       "      <td>Show banners with current offers and sales on ...</td>\n",
       "      <td>5</td>\n",
       "      <td>3</td>\n",
       "      <td>8</td>\n",
       "      <td>3</td>\n",
       "    </tr>\n",
       "    <tr>\n",
       "      <th>7</th>\n",
       "      <td>Add a subscription form to all the main pages....</td>\n",
       "      <td>10</td>\n",
       "      <td>7</td>\n",
       "      <td>8</td>\n",
       "      <td>5</td>\n",
       "    </tr>\n",
       "    <tr>\n",
       "      <th>8</th>\n",
       "      <td>Launch a promotion that gives users discounts ...</td>\n",
       "      <td>1</td>\n",
       "      <td>9</td>\n",
       "      <td>9</td>\n",
       "      <td>5</td>\n",
       "    </tr>\n",
       "  </tbody>\n",
       "</table>\n",
       "</div>"
      ],
      "text/plain": [
       "                                          Hypothesis  Reach  Impact  \\\n",
       "0  Add two new channels for attracting traffic. T...      3      10   \n",
       "1  Launch your own delivery service. This will sh...      2       5   \n",
       "2  Add product recommendation blocks to the store...      8       3   \n",
       "3  Change the category structure. This will incre...      8       3   \n",
       "4  Change the background color on the main page. ...      3       1   \n",
       "5  Add a customer review page. This will increase...      3       2   \n",
       "6  Show banners with current offers and sales on ...      5       3   \n",
       "7  Add a subscription form to all the main pages....     10       7   \n",
       "8  Launch a promotion that gives users discounts ...      1       9   \n",
       "\n",
       "   Confidence  Effort  \n",
       "0           8       6  \n",
       "1           4      10  \n",
       "2           7       3  \n",
       "3           3       8  \n",
       "4           1       1  \n",
       "5           2       3  \n",
       "6           8       3  \n",
       "7           8       5  \n",
       "8           9       5  "
      ]
     },
     "execution_count": 3,
     "metadata": {},
     "output_type": "execute_result"
    }
   ],
   "source": [
    "hypotheses"
   ]
  },
  {
   "cell_type": "code",
   "execution_count": 4,
   "metadata": {},
   "outputs": [],
   "source": [
    "# Cambiar nombres de columnas para cumplir con el formato PEP8\n",
    "new_columns = []\n",
    "\n",
    "for column in hypotheses.columns:\n",
    "    lowered = column.lower()\n",
    "    new_columns.append(lowered)\n",
    "    \n",
    "hypotheses.columns = new_columns"
   ]
  },
  {
   "cell_type": "code",
   "execution_count": 5,
   "metadata": {},
   "outputs": [
    {
     "name": "stdout",
     "output_type": "stream",
     "text": [
      "<class 'pandas.core.frame.DataFrame'>\n",
      "RangeIndex: 9 entries, 0 to 8\n",
      "Data columns (total 5 columns):\n",
      " #   Column      Non-Null Count  Dtype \n",
      "---  ------      --------------  ----- \n",
      " 0   hypothesis  9 non-null      object\n",
      " 1   reach       9 non-null      int64 \n",
      " 2   impact      9 non-null      int64 \n",
      " 3   confidence  9 non-null      int64 \n",
      " 4   effort      9 non-null      int64 \n",
      "dtypes: int64(4), object(1)\n",
      "memory usage: 488.0+ bytes\n"
     ]
    }
   ],
   "source": [
    "hypotheses.info()"
   ]
  },
  {
   "cell_type": "markdown",
   "metadata": {},
   "source": [
    "<div class=\"alert alert-block alert-success\">\n",
    "<b>Comentario del revisor (1ra Iteracion)</b> <a class=“tocSkip”></a>\n",
    "\n",
    "Buen trabajo con la revisión inicial de tus datos, siempre es importante entender con lo que trabajarás!\n",
    "</div>"
   ]
  },
  {
   "cell_type": "markdown",
   "metadata": {},
   "source": [
    "## Priorizar Hipotesis"
   ]
  },
  {
   "cell_type": "code",
   "execution_count": 6,
   "metadata": {},
   "outputs": [],
   "source": [
    "# Aplicar el framework ICE para priorizar hipótesis\n",
    "hypotheses['ice'] = (hypotheses['impact'] * hypotheses['confidence']) / hypotheses['effort']"
   ]
  },
  {
   "cell_type": "code",
   "execution_count": 7,
   "metadata": {},
   "outputs": [
    {
     "data": {
      "text/html": [
       "<div>\n",
       "<style scoped>\n",
       "    .dataframe tbody tr th:only-of-type {\n",
       "        vertical-align: middle;\n",
       "    }\n",
       "\n",
       "    .dataframe tbody tr th {\n",
       "        vertical-align: top;\n",
       "    }\n",
       "\n",
       "    .dataframe thead th {\n",
       "        text-align: right;\n",
       "    }\n",
       "</style>\n",
       "<table border=\"1\" class=\"dataframe\">\n",
       "  <thead>\n",
       "    <tr style=\"text-align: right;\">\n",
       "      <th></th>\n",
       "      <th>hypothesis</th>\n",
       "      <th>ice</th>\n",
       "    </tr>\n",
       "  </thead>\n",
       "  <tbody>\n",
       "    <tr>\n",
       "      <th>8</th>\n",
       "      <td>Launch a promotion that gives users discounts ...</td>\n",
       "      <td>16.200000</td>\n",
       "    </tr>\n",
       "    <tr>\n",
       "      <th>0</th>\n",
       "      <td>Add two new channels for attracting traffic. T...</td>\n",
       "      <td>13.333333</td>\n",
       "    </tr>\n",
       "    <tr>\n",
       "      <th>7</th>\n",
       "      <td>Add a subscription form to all the main pages....</td>\n",
       "      <td>11.200000</td>\n",
       "    </tr>\n",
       "    <tr>\n",
       "      <th>6</th>\n",
       "      <td>Show banners with current offers and sales on ...</td>\n",
       "      <td>8.000000</td>\n",
       "    </tr>\n",
       "    <tr>\n",
       "      <th>2</th>\n",
       "      <td>Add product recommendation blocks to the store...</td>\n",
       "      <td>7.000000</td>\n",
       "    </tr>\n",
       "    <tr>\n",
       "      <th>1</th>\n",
       "      <td>Launch your own delivery service. This will sh...</td>\n",
       "      <td>2.000000</td>\n",
       "    </tr>\n",
       "    <tr>\n",
       "      <th>5</th>\n",
       "      <td>Add a customer review page. This will increase...</td>\n",
       "      <td>1.333333</td>\n",
       "    </tr>\n",
       "    <tr>\n",
       "      <th>3</th>\n",
       "      <td>Change the category structure. This will incre...</td>\n",
       "      <td>1.125000</td>\n",
       "    </tr>\n",
       "    <tr>\n",
       "      <th>4</th>\n",
       "      <td>Change the background color on the main page. ...</td>\n",
       "      <td>1.000000</td>\n",
       "    </tr>\n",
       "  </tbody>\n",
       "</table>\n",
       "</div>"
      ],
      "text/plain": [
       "                                          hypothesis        ice\n",
       "8  Launch a promotion that gives users discounts ...  16.200000\n",
       "0  Add two new channels for attracting traffic. T...  13.333333\n",
       "7  Add a subscription form to all the main pages....  11.200000\n",
       "6  Show banners with current offers and sales on ...   8.000000\n",
       "2  Add product recommendation blocks to the store...   7.000000\n",
       "1  Launch your own delivery service. This will sh...   2.000000\n",
       "5  Add a customer review page. This will increase...   1.333333\n",
       "3  Change the category structure. This will incre...   1.125000\n",
       "4  Change the background color on the main page. ...   1.000000"
      ]
     },
     "execution_count": 7,
     "metadata": {},
     "output_type": "execute_result"
    }
   ],
   "source": [
    "# Priorización de las hipótesis según ICE\n",
    "hypotheses[['hypothesis', 'ice']].sort_values('ice', ascending=False)"
   ]
  },
  {
   "cell_type": "code",
   "execution_count": 8,
   "metadata": {},
   "outputs": [],
   "source": [
    "# Aplicar el framework RICE para priorizar hipótesis\n",
    "hypotheses['rice'] = (hypotheses['reach'] * hypotheses['impact'] * hypotheses['confidence']) / hypotheses['effort']"
   ]
  },
  {
   "cell_type": "code",
   "execution_count": 9,
   "metadata": {},
   "outputs": [
    {
     "data": {
      "text/html": [
       "<div>\n",
       "<style scoped>\n",
       "    .dataframe tbody tr th:only-of-type {\n",
       "        vertical-align: middle;\n",
       "    }\n",
       "\n",
       "    .dataframe tbody tr th {\n",
       "        vertical-align: top;\n",
       "    }\n",
       "\n",
       "    .dataframe thead th {\n",
       "        text-align: right;\n",
       "    }\n",
       "</style>\n",
       "<table border=\"1\" class=\"dataframe\">\n",
       "  <thead>\n",
       "    <tr style=\"text-align: right;\">\n",
       "      <th></th>\n",
       "      <th>hypothesis</th>\n",
       "      <th>rice</th>\n",
       "    </tr>\n",
       "  </thead>\n",
       "  <tbody>\n",
       "    <tr>\n",
       "      <th>7</th>\n",
       "      <td>Add a subscription form to all the main pages....</td>\n",
       "      <td>112.0</td>\n",
       "    </tr>\n",
       "    <tr>\n",
       "      <th>2</th>\n",
       "      <td>Add product recommendation blocks to the store...</td>\n",
       "      <td>56.0</td>\n",
       "    </tr>\n",
       "    <tr>\n",
       "      <th>0</th>\n",
       "      <td>Add two new channels for attracting traffic. T...</td>\n",
       "      <td>40.0</td>\n",
       "    </tr>\n",
       "    <tr>\n",
       "      <th>6</th>\n",
       "      <td>Show banners with current offers and sales on ...</td>\n",
       "      <td>40.0</td>\n",
       "    </tr>\n",
       "    <tr>\n",
       "      <th>8</th>\n",
       "      <td>Launch a promotion that gives users discounts ...</td>\n",
       "      <td>16.2</td>\n",
       "    </tr>\n",
       "    <tr>\n",
       "      <th>3</th>\n",
       "      <td>Change the category structure. This will incre...</td>\n",
       "      <td>9.0</td>\n",
       "    </tr>\n",
       "    <tr>\n",
       "      <th>1</th>\n",
       "      <td>Launch your own delivery service. This will sh...</td>\n",
       "      <td>4.0</td>\n",
       "    </tr>\n",
       "    <tr>\n",
       "      <th>5</th>\n",
       "      <td>Add a customer review page. This will increase...</td>\n",
       "      <td>4.0</td>\n",
       "    </tr>\n",
       "    <tr>\n",
       "      <th>4</th>\n",
       "      <td>Change the background color on the main page. ...</td>\n",
       "      <td>3.0</td>\n",
       "    </tr>\n",
       "  </tbody>\n",
       "</table>\n",
       "</div>"
      ],
      "text/plain": [
       "                                          hypothesis   rice\n",
       "7  Add a subscription form to all the main pages....  112.0\n",
       "2  Add product recommendation blocks to the store...   56.0\n",
       "0  Add two new channels for attracting traffic. T...   40.0\n",
       "6  Show banners with current offers and sales on ...   40.0\n",
       "8  Launch a promotion that gives users discounts ...   16.2\n",
       "3  Change the category structure. This will incre...    9.0\n",
       "1  Launch your own delivery service. This will sh...    4.0\n",
       "5  Add a customer review page. This will increase...    4.0\n",
       "4  Change the background color on the main page. ...    3.0"
      ]
     },
     "execution_count": 9,
     "metadata": {},
     "output_type": "execute_result"
    }
   ],
   "source": [
    "# Priorización de las hipótesis según RICE\n",
    "hypotheses[['hypothesis', 'rice']].sort_values('rice', ascending=False)"
   ]
  },
  {
   "cell_type": "markdown",
   "metadata": {},
   "source": [
    "Ambos frameworks sirven para priorizar hipótesis, pero difieren en sus resultados ya que \"RICE\" además del impacto y la confianza, considera el alcance al realizar la categorización, lo cual cambia los valores del resultado, por ello es bueno comparar y considerar ambos, lo que puede brindar una perspectiva más amplia."
   ]
  },
  {
   "cell_type": "code",
   "execution_count": 10,
   "metadata": {},
   "outputs": [
    {
     "data": {
      "text/plain": [
       "'Add a subscription form to all the main pages. This will help you compile a mailing list'"
      ]
     },
     "execution_count": 10,
     "metadata": {},
     "output_type": "execute_result"
    }
   ],
   "source": [
    "hypotheses.loc[7,'hypothesis']"
   ]
  },
  {
   "cell_type": "code",
   "execution_count": 11,
   "metadata": {},
   "outputs": [
    {
     "data": {
      "text/plain": [
       "'Add two new channels for attracting traffic. This will bring 30% more users'"
      ]
     },
     "execution_count": 11,
     "metadata": {},
     "output_type": "execute_result"
    }
   ],
   "source": [
    "hypotheses.loc[0,'hypothesis']"
   ]
  },
  {
   "cell_type": "markdown",
   "metadata": {},
   "source": [
    "Las hipótesis de índice 0 y 7 se repiten dentro de las primeras 3 en la aplicación de ambos frameworks; ICE y RICE, sin embargo, la hipotesis 7 tiene una calificación de \"Reach\" de 10 vs el puntaje de 3 que tiene la hipotesis 0, de modo que la anterior tiene un alcance más significativo en relación a la cantidad de personas que se verán afectadas. Además ambas hipótesis tienen un puntaje similar en las demás categorías \"impacto, confianza y esfuerzo\", por lo que la hipótesis de \"Añadir un formulario de suscripción\" podría evaluarse antes de \"Añadir 2 nuevos canales para atraer mayor tráfico\"."
   ]
  },
  {
   "cell_type": "markdown",
   "metadata": {},
   "source": [
    "<div class=\"alert alert-block alert-warning\">\n",
    "<b>Comentario del revisor (1ra Iteracion)</b> <a class=“tocSkip”></a>\n",
    "\n",
    "Muy buen trabajo con el cálculo para la priorización con los diferentes frameworks! Para una mejor visualización de las diferencias podrías mostrar una gráfica con estos datos\n",
    "</div>"
   ]
  },
  {
   "cell_type": "markdown",
   "metadata": {},
   "source": [
    "## Análisis del test A/B"
   ]
  },
  {
   "cell_type": "code",
   "execution_count": 12,
   "metadata": {},
   "outputs": [
    {
     "data": {
      "text/html": [
       "<div>\n",
       "<style scoped>\n",
       "    .dataframe tbody tr th:only-of-type {\n",
       "        vertical-align: middle;\n",
       "    }\n",
       "\n",
       "    .dataframe tbody tr th {\n",
       "        vertical-align: top;\n",
       "    }\n",
       "\n",
       "    .dataframe thead th {\n",
       "        text-align: right;\n",
       "    }\n",
       "</style>\n",
       "<table border=\"1\" class=\"dataframe\">\n",
       "  <thead>\n",
       "    <tr style=\"text-align: right;\">\n",
       "      <th></th>\n",
       "      <th>transactionId</th>\n",
       "      <th>visitorId</th>\n",
       "      <th>date</th>\n",
       "      <th>revenue</th>\n",
       "      <th>group</th>\n",
       "    </tr>\n",
       "  </thead>\n",
       "  <tbody>\n",
       "    <tr>\n",
       "      <th>0</th>\n",
       "      <td>3667963787</td>\n",
       "      <td>3312258926</td>\n",
       "      <td>2019-08-15</td>\n",
       "      <td>30.4</td>\n",
       "      <td>B</td>\n",
       "    </tr>\n",
       "    <tr>\n",
       "      <th>1</th>\n",
       "      <td>2804400009</td>\n",
       "      <td>3642806036</td>\n",
       "      <td>2019-08-15</td>\n",
       "      <td>15.2</td>\n",
       "      <td>B</td>\n",
       "    </tr>\n",
       "    <tr>\n",
       "      <th>2</th>\n",
       "      <td>2961555356</td>\n",
       "      <td>4069496402</td>\n",
       "      <td>2019-08-15</td>\n",
       "      <td>10.2</td>\n",
       "      <td>A</td>\n",
       "    </tr>\n",
       "    <tr>\n",
       "      <th>3</th>\n",
       "      <td>3797467345</td>\n",
       "      <td>1196621759</td>\n",
       "      <td>2019-08-15</td>\n",
       "      <td>155.1</td>\n",
       "      <td>B</td>\n",
       "    </tr>\n",
       "    <tr>\n",
       "      <th>4</th>\n",
       "      <td>2282983706</td>\n",
       "      <td>2322279887</td>\n",
       "      <td>2019-08-15</td>\n",
       "      <td>40.5</td>\n",
       "      <td>B</td>\n",
       "    </tr>\n",
       "  </tbody>\n",
       "</table>\n",
       "</div>"
      ],
      "text/plain": [
       "   transactionId   visitorId        date  revenue group\n",
       "0     3667963787  3312258926  2019-08-15     30.4     B\n",
       "1     2804400009  3642806036  2019-08-15     15.2     B\n",
       "2     2961555356  4069496402  2019-08-15     10.2     A\n",
       "3     3797467345  1196621759  2019-08-15    155.1     B\n",
       "4     2282983706  2322279887  2019-08-15     40.5     B"
      ]
     },
     "execution_count": 12,
     "metadata": {},
     "output_type": "execute_result"
    }
   ],
   "source": [
    "# Cargar datos de pedidos\n",
    "orders = pd.read_csv('/datasets/orders_us.csv')\n",
    "orders.head()"
   ]
  },
  {
   "cell_type": "code",
   "execution_count": 13,
   "metadata": {},
   "outputs": [
    {
     "data": {
      "text/html": [
       "<div>\n",
       "<style scoped>\n",
       "    .dataframe tbody tr th:only-of-type {\n",
       "        vertical-align: middle;\n",
       "    }\n",
       "\n",
       "    .dataframe tbody tr th {\n",
       "        vertical-align: top;\n",
       "    }\n",
       "\n",
       "    .dataframe thead th {\n",
       "        text-align: right;\n",
       "    }\n",
       "</style>\n",
       "<table border=\"1\" class=\"dataframe\">\n",
       "  <thead>\n",
       "    <tr style=\"text-align: right;\">\n",
       "      <th></th>\n",
       "      <th>date</th>\n",
       "      <th>group</th>\n",
       "      <th>visits</th>\n",
       "    </tr>\n",
       "  </thead>\n",
       "  <tbody>\n",
       "    <tr>\n",
       "      <th>0</th>\n",
       "      <td>2019-08-01</td>\n",
       "      <td>A</td>\n",
       "      <td>719</td>\n",
       "    </tr>\n",
       "    <tr>\n",
       "      <th>1</th>\n",
       "      <td>2019-08-02</td>\n",
       "      <td>A</td>\n",
       "      <td>619</td>\n",
       "    </tr>\n",
       "    <tr>\n",
       "      <th>2</th>\n",
       "      <td>2019-08-03</td>\n",
       "      <td>A</td>\n",
       "      <td>507</td>\n",
       "    </tr>\n",
       "    <tr>\n",
       "      <th>3</th>\n",
       "      <td>2019-08-04</td>\n",
       "      <td>A</td>\n",
       "      <td>717</td>\n",
       "    </tr>\n",
       "    <tr>\n",
       "      <th>4</th>\n",
       "      <td>2019-08-05</td>\n",
       "      <td>A</td>\n",
       "      <td>756</td>\n",
       "    </tr>\n",
       "  </tbody>\n",
       "</table>\n",
       "</div>"
      ],
      "text/plain": [
       "         date group  visits\n",
       "0  2019-08-01     A     719\n",
       "1  2019-08-02     A     619\n",
       "2  2019-08-03     A     507\n",
       "3  2019-08-04     A     717\n",
       "4  2019-08-05     A     756"
      ]
     },
     "execution_count": 13,
     "metadata": {},
     "output_type": "execute_result"
    }
   ],
   "source": [
    "# Cargar datos de visitas\n",
    "visits = pd.read_csv('/datasets/visits_us.csv')\n",
    "visits.head()"
   ]
  },
  {
   "cell_type": "code",
   "execution_count": 14,
   "metadata": {},
   "outputs": [
    {
     "name": "stdout",
     "output_type": "stream",
     "text": [
      "<class 'pandas.core.frame.DataFrame'>\n",
      "RangeIndex: 1197 entries, 0 to 1196\n",
      "Data columns (total 5 columns):\n",
      " #   Column         Non-Null Count  Dtype  \n",
      "---  ------         --------------  -----  \n",
      " 0   transactionId  1197 non-null   int64  \n",
      " 1   visitorId      1197 non-null   int64  \n",
      " 2   date           1197 non-null   object \n",
      " 3   revenue        1197 non-null   float64\n",
      " 4   group          1197 non-null   object \n",
      "dtypes: float64(1), int64(2), object(2)\n",
      "memory usage: 46.9+ KB\n"
     ]
    }
   ],
   "source": [
    "# Explorar data de pedidos\n",
    "orders.info()"
   ]
  },
  {
   "cell_type": "code",
   "execution_count": 15,
   "metadata": {},
   "outputs": [
    {
     "data": {
      "text/html": [
       "<div>\n",
       "<style scoped>\n",
       "    .dataframe tbody tr th:only-of-type {\n",
       "        vertical-align: middle;\n",
       "    }\n",
       "\n",
       "    .dataframe tbody tr th {\n",
       "        vertical-align: top;\n",
       "    }\n",
       "\n",
       "    .dataframe thead th {\n",
       "        text-align: right;\n",
       "    }\n",
       "</style>\n",
       "<table border=\"1\" class=\"dataframe\">\n",
       "  <thead>\n",
       "    <tr style=\"text-align: right;\">\n",
       "      <th></th>\n",
       "      <th>transaction_id</th>\n",
       "      <th>user_id</th>\n",
       "      <th>date</th>\n",
       "      <th>revenue</th>\n",
       "      <th>group</th>\n",
       "    </tr>\n",
       "  </thead>\n",
       "  <tbody>\n",
       "    <tr>\n",
       "      <th>0</th>\n",
       "      <td>3667963787</td>\n",
       "      <td>3312258926</td>\n",
       "      <td>2019-08-15</td>\n",
       "      <td>30.4</td>\n",
       "      <td>B</td>\n",
       "    </tr>\n",
       "    <tr>\n",
       "      <th>1</th>\n",
       "      <td>2804400009</td>\n",
       "      <td>3642806036</td>\n",
       "      <td>2019-08-15</td>\n",
       "      <td>15.2</td>\n",
       "      <td>B</td>\n",
       "    </tr>\n",
       "    <tr>\n",
       "      <th>2</th>\n",
       "      <td>2961555356</td>\n",
       "      <td>4069496402</td>\n",
       "      <td>2019-08-15</td>\n",
       "      <td>10.2</td>\n",
       "      <td>A</td>\n",
       "    </tr>\n",
       "    <tr>\n",
       "      <th>3</th>\n",
       "      <td>3797467345</td>\n",
       "      <td>1196621759</td>\n",
       "      <td>2019-08-15</td>\n",
       "      <td>155.1</td>\n",
       "      <td>B</td>\n",
       "    </tr>\n",
       "    <tr>\n",
       "      <th>4</th>\n",
       "      <td>2282983706</td>\n",
       "      <td>2322279887</td>\n",
       "      <td>2019-08-15</td>\n",
       "      <td>40.5</td>\n",
       "      <td>B</td>\n",
       "    </tr>\n",
       "  </tbody>\n",
       "</table>\n",
       "</div>"
      ],
      "text/plain": [
       "   transaction_id     user_id        date  revenue group\n",
       "0      3667963787  3312258926  2019-08-15     30.4     B\n",
       "1      2804400009  3642806036  2019-08-15     15.2     B\n",
       "2      2961555356  4069496402  2019-08-15     10.2     A\n",
       "3      3797467345  1196621759  2019-08-15    155.1     B\n",
       "4      2282983706  2322279887  2019-08-15     40.5     B"
      ]
     },
     "execution_count": 15,
     "metadata": {},
     "output_type": "execute_result"
    }
   ],
   "source": [
    "# Cambiar nombres de columna para cumplir con el formato PEP8\n",
    "orders.rename(columns= {'transactionId':'transaction_id', 'visitorId':'user_id'}, inplace=True)\n",
    "orders.head()"
   ]
  },
  {
   "cell_type": "markdown",
   "metadata": {},
   "source": [
    "No hay datos nulos en *orders*"
   ]
  },
  {
   "cell_type": "code",
   "execution_count": 16,
   "metadata": {},
   "outputs": [
    {
     "data": {
      "text/plain": [
       "0"
      ]
     },
     "execution_count": 16,
     "metadata": {},
     "output_type": "execute_result"
    }
   ],
   "source": [
    "orders.duplicated().sum()"
   ]
  },
  {
   "cell_type": "markdown",
   "metadata": {},
   "source": [
    "No hay duplicados explícitos en *orders*"
   ]
  },
  {
   "cell_type": "code",
   "execution_count": 17,
   "metadata": {},
   "outputs": [
    {
     "data": {
      "text/plain": [
       "0"
      ]
     },
     "execution_count": 17,
     "metadata": {},
     "output_type": "execute_result"
    }
   ],
   "source": [
    "# Buscar duplicados en las transacciones\n",
    "orders['transaction_id'].duplicated().sum()"
   ]
  },
  {
   "cell_type": "code",
   "execution_count": 18,
   "metadata": {},
   "outputs": [
    {
     "data": {
      "text/plain": [
       "166"
      ]
     },
     "execution_count": 18,
     "metadata": {},
     "output_type": "execute_result"
    }
   ],
   "source": [
    "# Buscar usuarios duplicados\n",
    "orders['user_id'].duplicated().sum()"
   ]
  },
  {
   "cell_type": "code",
   "execution_count": 19,
   "metadata": {},
   "outputs": [
    {
     "data": {
      "text/plain": [
       "0       3312258926\n",
       "1       3642806036\n",
       "2       4069496402\n",
       "3       1196621759\n",
       "4       2322279887\n",
       "           ...    \n",
       "1191     608641596\n",
       "1192    3733762160\n",
       "1193     370388673\n",
       "1194     573423106\n",
       "1196    2108080724\n",
       "Name: user_id, Length: 1031, dtype: int64"
      ]
     },
     "execution_count": 19,
     "metadata": {},
     "output_type": "execute_result"
    }
   ],
   "source": [
    "# Eliminar \"usuarios\" duplicados\n",
    "orders['user_id'].drop_duplicates()"
   ]
  },
  {
   "cell_type": "markdown",
   "metadata": {},
   "source": [
    "Se eliminaron los usuarios que estaban en ambos grupos, pues aunque se reduzca el tamaño de la muestra, conservar usuarios en ambos grupos reducirá la validez de la prueba"
   ]
  },
  {
   "cell_type": "code",
   "execution_count": 20,
   "metadata": {},
   "outputs": [],
   "source": [
    "# Transformar datos de la columna \"date\" a formato datetime\n",
    "orders['date'] = orders['date'].map(lambda x: dt.datetime.strptime(x, '%Y-%m-%d'))"
   ]
  },
  {
   "cell_type": "code",
   "execution_count": 21,
   "metadata": {},
   "outputs": [
    {
     "name": "stdout",
     "output_type": "stream",
     "text": [
      "<class 'pandas.core.frame.DataFrame'>\n",
      "RangeIndex: 62 entries, 0 to 61\n",
      "Data columns (total 3 columns):\n",
      " #   Column  Non-Null Count  Dtype \n",
      "---  ------  --------------  ----- \n",
      " 0   date    62 non-null     object\n",
      " 1   group   62 non-null     object\n",
      " 2   visits  62 non-null     int64 \n",
      "dtypes: int64(1), object(2)\n",
      "memory usage: 1.6+ KB\n"
     ]
    }
   ],
   "source": [
    "# Explorar data de visitas\n",
    "visits.info()"
   ]
  },
  {
   "cell_type": "markdown",
   "metadata": {},
   "source": [
    "No hay valores nulos en *visits*"
   ]
  },
  {
   "cell_type": "code",
   "execution_count": 22,
   "metadata": {},
   "outputs": [
    {
     "data": {
      "text/plain": [
       "0"
      ]
     },
     "execution_count": 22,
     "metadata": {},
     "output_type": "execute_result"
    }
   ],
   "source": [
    "visits.duplicated().sum()"
   ]
  },
  {
   "cell_type": "markdown",
   "metadata": {},
   "source": [
    "No se encuentran duplicados explicitos en *visits*"
   ]
  },
  {
   "cell_type": "code",
   "execution_count": 23,
   "metadata": {},
   "outputs": [],
   "source": [
    "# Transformar datos de la columna \"date\" a formato datetime\n",
    "visits['date'] = visits['date'].map(lambda x: dt.datetime.strptime(x, '%Y-%m-%d'))"
   ]
  },
  {
   "cell_type": "markdown",
   "metadata": {},
   "source": [
    "## Análisis con datos en bruto"
   ]
  },
  {
   "cell_type": "code",
   "execution_count": 24,
   "metadata": {},
   "outputs": [],
   "source": [
    "# Buscar registros únicos de fechas de pedidos y grupos a los que pertenecen\n",
    "dates_groups = orders[['date', 'group']].drop_duplicates()"
   ]
  },
  {
   "cell_type": "code",
   "execution_count": 25,
   "metadata": {},
   "outputs": [
    {
     "data": {
      "text/html": [
       "<div>\n",
       "<style scoped>\n",
       "    .dataframe tbody tr th:only-of-type {\n",
       "        vertical-align: middle;\n",
       "    }\n",
       "\n",
       "    .dataframe tbody tr th {\n",
       "        vertical-align: top;\n",
       "    }\n",
       "\n",
       "    .dataframe thead th {\n",
       "        text-align: right;\n",
       "    }\n",
       "</style>\n",
       "<table border=\"1\" class=\"dataframe\">\n",
       "  <thead>\n",
       "    <tr style=\"text-align: right;\">\n",
       "      <th></th>\n",
       "      <th>date</th>\n",
       "      <th>group</th>\n",
       "    </tr>\n",
       "  </thead>\n",
       "  <tbody>\n",
       "    <tr>\n",
       "      <th>0</th>\n",
       "      <td>2019-08-15</td>\n",
       "      <td>B</td>\n",
       "    </tr>\n",
       "    <tr>\n",
       "      <th>2</th>\n",
       "      <td>2019-08-15</td>\n",
       "      <td>A</td>\n",
       "    </tr>\n",
       "    <tr>\n",
       "      <th>45</th>\n",
       "      <td>2019-08-16</td>\n",
       "      <td>A</td>\n",
       "    </tr>\n",
       "    <tr>\n",
       "      <th>47</th>\n",
       "      <td>2019-08-16</td>\n",
       "      <td>B</td>\n",
       "    </tr>\n",
       "    <tr>\n",
       "      <th>55</th>\n",
       "      <td>2019-08-01</td>\n",
       "      <td>A</td>\n",
       "    </tr>\n",
       "    <tr>\n",
       "      <th>...</th>\n",
       "      <td>...</td>\n",
       "      <td>...</td>\n",
       "    </tr>\n",
       "    <tr>\n",
       "      <th>1068</th>\n",
       "      <td>2019-08-12</td>\n",
       "      <td>A</td>\n",
       "    </tr>\n",
       "    <tr>\n",
       "      <th>1114</th>\n",
       "      <td>2019-08-13</td>\n",
       "      <td>B</td>\n",
       "    </tr>\n",
       "    <tr>\n",
       "      <th>1116</th>\n",
       "      <td>2019-08-13</td>\n",
       "      <td>A</td>\n",
       "    </tr>\n",
       "    <tr>\n",
       "      <th>1149</th>\n",
       "      <td>2019-08-14</td>\n",
       "      <td>B</td>\n",
       "    </tr>\n",
       "    <tr>\n",
       "      <th>1150</th>\n",
       "      <td>2019-08-14</td>\n",
       "      <td>A</td>\n",
       "    </tr>\n",
       "  </tbody>\n",
       "</table>\n",
       "<p>62 rows × 2 columns</p>\n",
       "</div>"
      ],
      "text/plain": [
       "           date group\n",
       "0    2019-08-15     B\n",
       "2    2019-08-15     A\n",
       "45   2019-08-16     A\n",
       "47   2019-08-16     B\n",
       "55   2019-08-01     A\n",
       "...         ...   ...\n",
       "1068 2019-08-12     A\n",
       "1114 2019-08-13     B\n",
       "1116 2019-08-13     A\n",
       "1149 2019-08-14     B\n",
       "1150 2019-08-14     A\n",
       "\n",
       "[62 rows x 2 columns]"
      ]
     },
     "execution_count": 25,
     "metadata": {},
     "output_type": "execute_result"
    }
   ],
   "source": [
    "dates_groups"
   ]
  },
  {
   "cell_type": "code",
   "execution_count": 26,
   "metadata": {},
   "outputs": [],
   "source": [
    "# Ordenes agregadas\n",
    "orders_aggregated = (\n",
    "    dates_groups.apply(lambda x: orders[np.logical_and(orders['date'] <= x['date'], orders['group'] == x['group'])]\n",
    "    .agg({\n",
    "        'date':'max', \n",
    "        'group':'max', \n",
    "        'transaction_id':pd.Series.nunique, \n",
    "        'user_id':pd.Series.nunique, \n",
    "        'revenue':'sum'\n",
    "    }), axis=1)\n",
    ").sort_values(by=['date', 'group'])"
   ]
  },
  {
   "cell_type": "code",
   "execution_count": 27,
   "metadata": {},
   "outputs": [
    {
     "data": {
      "text/html": [
       "<div>\n",
       "<style scoped>\n",
       "    .dataframe tbody tr th:only-of-type {\n",
       "        vertical-align: middle;\n",
       "    }\n",
       "\n",
       "    .dataframe tbody tr th {\n",
       "        vertical-align: top;\n",
       "    }\n",
       "\n",
       "    .dataframe thead th {\n",
       "        text-align: right;\n",
       "    }\n",
       "</style>\n",
       "<table border=\"1\" class=\"dataframe\">\n",
       "  <thead>\n",
       "    <tr style=\"text-align: right;\">\n",
       "      <th></th>\n",
       "      <th>date</th>\n",
       "      <th>group</th>\n",
       "      <th>transaction_id</th>\n",
       "      <th>user_id</th>\n",
       "      <th>revenue</th>\n",
       "    </tr>\n",
       "  </thead>\n",
       "  <tbody>\n",
       "    <tr>\n",
       "      <th>55</th>\n",
       "      <td>2019-08-01</td>\n",
       "      <td>A</td>\n",
       "      <td>24</td>\n",
       "      <td>20</td>\n",
       "      <td>2356.8</td>\n",
       "    </tr>\n",
       "    <tr>\n",
       "      <th>66</th>\n",
       "      <td>2019-08-01</td>\n",
       "      <td>B</td>\n",
       "      <td>21</td>\n",
       "      <td>20</td>\n",
       "      <td>1620.0</td>\n",
       "    </tr>\n",
       "    <tr>\n",
       "      <th>175</th>\n",
       "      <td>2019-08-02</td>\n",
       "      <td>A</td>\n",
       "      <td>44</td>\n",
       "      <td>38</td>\n",
       "      <td>3860.3</td>\n",
       "    </tr>\n",
       "    <tr>\n",
       "      <th>173</th>\n",
       "      <td>2019-08-02</td>\n",
       "      <td>B</td>\n",
       "      <td>45</td>\n",
       "      <td>43</td>\n",
       "      <td>4243.8</td>\n",
       "    </tr>\n",
       "    <tr>\n",
       "      <th>291</th>\n",
       "      <td>2019-08-03</td>\n",
       "      <td>A</td>\n",
       "      <td>68</td>\n",
       "      <td>62</td>\n",
       "      <td>5675.5</td>\n",
       "    </tr>\n",
       "    <tr>\n",
       "      <th>...</th>\n",
       "      <td>...</td>\n",
       "      <td>...</td>\n",
       "      <td>...</td>\n",
       "      <td>...</td>\n",
       "      <td>...</td>\n",
       "    </tr>\n",
       "    <tr>\n",
       "      <th>496</th>\n",
       "      <td>2019-08-29</td>\n",
       "      <td>B</td>\n",
       "      <td>596</td>\n",
       "      <td>544</td>\n",
       "      <td>87343.0</td>\n",
       "    </tr>\n",
       "    <tr>\n",
       "      <th>730</th>\n",
       "      <td>2019-08-30</td>\n",
       "      <td>A</td>\n",
       "      <td>545</td>\n",
       "      <td>493</td>\n",
       "      <td>63563.5</td>\n",
       "    </tr>\n",
       "    <tr>\n",
       "      <th>690</th>\n",
       "      <td>2019-08-30</td>\n",
       "      <td>B</td>\n",
       "      <td>620</td>\n",
       "      <td>567</td>\n",
       "      <td>90736.3</td>\n",
       "    </tr>\n",
       "    <tr>\n",
       "      <th>958</th>\n",
       "      <td>2019-08-31</td>\n",
       "      <td>A</td>\n",
       "      <td>557</td>\n",
       "      <td>503</td>\n",
       "      <td>64554.9</td>\n",
       "    </tr>\n",
       "    <tr>\n",
       "      <th>930</th>\n",
       "      <td>2019-08-31</td>\n",
       "      <td>B</td>\n",
       "      <td>640</td>\n",
       "      <td>586</td>\n",
       "      <td>92840.6</td>\n",
       "    </tr>\n",
       "  </tbody>\n",
       "</table>\n",
       "<p>62 rows × 5 columns</p>\n",
       "</div>"
      ],
      "text/plain": [
       "          date group  transaction_id  user_id  revenue\n",
       "55  2019-08-01     A              24       20   2356.8\n",
       "66  2019-08-01     B              21       20   1620.0\n",
       "175 2019-08-02     A              44       38   3860.3\n",
       "173 2019-08-02     B              45       43   4243.8\n",
       "291 2019-08-03     A              68       62   5675.5\n",
       "..         ...   ...             ...      ...      ...\n",
       "496 2019-08-29     B             596      544  87343.0\n",
       "730 2019-08-30     A             545      493  63563.5\n",
       "690 2019-08-30     B             620      567  90736.3\n",
       "958 2019-08-31     A             557      503  64554.9\n",
       "930 2019-08-31     B             640      586  92840.6\n",
       "\n",
       "[62 rows x 5 columns]"
      ]
     },
     "execution_count": 27,
     "metadata": {},
     "output_type": "execute_result"
    }
   ],
   "source": [
    "orders_aggregated"
   ]
  },
  {
   "cell_type": "code",
   "execution_count": 28,
   "metadata": {},
   "outputs": [],
   "source": [
    "# Visitas agregados\n",
    "visits_aggregated = (\n",
    "    dates_groups.apply(lambda x: visits[np.logical_and(visits['date'] <= x['date'], visits['group'] == x['group'])]\n",
    "    .agg({\n",
    "        'date':'max', \n",
    "        'group':'max', \n",
    "        'visits':'sum'\n",
    "    }), axis=1)\n",
    ").sort_values(by=['date', 'group'])"
   ]
  },
  {
   "cell_type": "code",
   "execution_count": 29,
   "metadata": {},
   "outputs": [
    {
     "data": {
      "text/html": [
       "<div>\n",
       "<style scoped>\n",
       "    .dataframe tbody tr th:only-of-type {\n",
       "        vertical-align: middle;\n",
       "    }\n",
       "\n",
       "    .dataframe tbody tr th {\n",
       "        vertical-align: top;\n",
       "    }\n",
       "\n",
       "    .dataframe thead th {\n",
       "        text-align: right;\n",
       "    }\n",
       "</style>\n",
       "<table border=\"1\" class=\"dataframe\">\n",
       "  <thead>\n",
       "    <tr style=\"text-align: right;\">\n",
       "      <th></th>\n",
       "      <th>date</th>\n",
       "      <th>group</th>\n",
       "      <th>visits</th>\n",
       "    </tr>\n",
       "  </thead>\n",
       "  <tbody>\n",
       "    <tr>\n",
       "      <th>55</th>\n",
       "      <td>2019-08-01</td>\n",
       "      <td>A</td>\n",
       "      <td>719</td>\n",
       "    </tr>\n",
       "    <tr>\n",
       "      <th>66</th>\n",
       "      <td>2019-08-01</td>\n",
       "      <td>B</td>\n",
       "      <td>713</td>\n",
       "    </tr>\n",
       "    <tr>\n",
       "      <th>175</th>\n",
       "      <td>2019-08-02</td>\n",
       "      <td>A</td>\n",
       "      <td>1338</td>\n",
       "    </tr>\n",
       "    <tr>\n",
       "      <th>173</th>\n",
       "      <td>2019-08-02</td>\n",
       "      <td>B</td>\n",
       "      <td>1294</td>\n",
       "    </tr>\n",
       "    <tr>\n",
       "      <th>291</th>\n",
       "      <td>2019-08-03</td>\n",
       "      <td>A</td>\n",
       "      <td>1845</td>\n",
       "    </tr>\n",
       "    <tr>\n",
       "      <th>...</th>\n",
       "      <td>...</td>\n",
       "      <td>...</td>\n",
       "      <td>...</td>\n",
       "    </tr>\n",
       "    <tr>\n",
       "      <th>496</th>\n",
       "      <td>2019-08-29</td>\n",
       "      <td>B</td>\n",
       "      <td>17708</td>\n",
       "    </tr>\n",
       "    <tr>\n",
       "      <th>730</th>\n",
       "      <td>2019-08-30</td>\n",
       "      <td>A</td>\n",
       "      <td>18037</td>\n",
       "    </tr>\n",
       "    <tr>\n",
       "      <th>690</th>\n",
       "      <td>2019-08-30</td>\n",
       "      <td>B</td>\n",
       "      <td>18198</td>\n",
       "    </tr>\n",
       "    <tr>\n",
       "      <th>958</th>\n",
       "      <td>2019-08-31</td>\n",
       "      <td>A</td>\n",
       "      <td>18736</td>\n",
       "    </tr>\n",
       "    <tr>\n",
       "      <th>930</th>\n",
       "      <td>2019-08-31</td>\n",
       "      <td>B</td>\n",
       "      <td>18916</td>\n",
       "    </tr>\n",
       "  </tbody>\n",
       "</table>\n",
       "<p>62 rows × 3 columns</p>\n",
       "</div>"
      ],
      "text/plain": [
       "          date group  visits\n",
       "55  2019-08-01     A     719\n",
       "66  2019-08-01     B     713\n",
       "175 2019-08-02     A    1338\n",
       "173 2019-08-02     B    1294\n",
       "291 2019-08-03     A    1845\n",
       "..         ...   ...     ...\n",
       "496 2019-08-29     B   17708\n",
       "730 2019-08-30     A   18037\n",
       "690 2019-08-30     B   18198\n",
       "958 2019-08-31     A   18736\n",
       "930 2019-08-31     B   18916\n",
       "\n",
       "[62 rows x 3 columns]"
      ]
     },
     "execution_count": 29,
     "metadata": {},
     "output_type": "execute_result"
    }
   ],
   "source": [
    "visits_aggregated"
   ]
  },
  {
   "cell_type": "code",
   "execution_count": 30,
   "metadata": {},
   "outputs": [],
   "source": [
    "# Unión de ambos dataframes de métricas acumuladas\n",
    "cumulative_data = orders_aggregated.merge(visits_aggregated, how='inner', on=['date', 'group'])"
   ]
  },
  {
   "cell_type": "code",
   "execution_count": 31,
   "metadata": {},
   "outputs": [
    {
     "data": {
      "text/html": [
       "<div>\n",
       "<style scoped>\n",
       "    .dataframe tbody tr th:only-of-type {\n",
       "        vertical-align: middle;\n",
       "    }\n",
       "\n",
       "    .dataframe tbody tr th {\n",
       "        vertical-align: top;\n",
       "    }\n",
       "\n",
       "    .dataframe thead th {\n",
       "        text-align: right;\n",
       "    }\n",
       "</style>\n",
       "<table border=\"1\" class=\"dataframe\">\n",
       "  <thead>\n",
       "    <tr style=\"text-align: right;\">\n",
       "      <th></th>\n",
       "      <th>date</th>\n",
       "      <th>group</th>\n",
       "      <th>transaction_id</th>\n",
       "      <th>user_id</th>\n",
       "      <th>revenue</th>\n",
       "      <th>visits</th>\n",
       "    </tr>\n",
       "  </thead>\n",
       "  <tbody>\n",
       "    <tr>\n",
       "      <th>0</th>\n",
       "      <td>2019-08-01</td>\n",
       "      <td>A</td>\n",
       "      <td>24</td>\n",
       "      <td>20</td>\n",
       "      <td>2356.8</td>\n",
       "      <td>719</td>\n",
       "    </tr>\n",
       "    <tr>\n",
       "      <th>1</th>\n",
       "      <td>2019-08-01</td>\n",
       "      <td>B</td>\n",
       "      <td>21</td>\n",
       "      <td>20</td>\n",
       "      <td>1620.0</td>\n",
       "      <td>713</td>\n",
       "    </tr>\n",
       "    <tr>\n",
       "      <th>2</th>\n",
       "      <td>2019-08-02</td>\n",
       "      <td>A</td>\n",
       "      <td>44</td>\n",
       "      <td>38</td>\n",
       "      <td>3860.3</td>\n",
       "      <td>1338</td>\n",
       "    </tr>\n",
       "    <tr>\n",
       "      <th>3</th>\n",
       "      <td>2019-08-02</td>\n",
       "      <td>B</td>\n",
       "      <td>45</td>\n",
       "      <td>43</td>\n",
       "      <td>4243.8</td>\n",
       "      <td>1294</td>\n",
       "    </tr>\n",
       "    <tr>\n",
       "      <th>4</th>\n",
       "      <td>2019-08-03</td>\n",
       "      <td>A</td>\n",
       "      <td>68</td>\n",
       "      <td>62</td>\n",
       "      <td>5675.5</td>\n",
       "      <td>1845</td>\n",
       "    </tr>\n",
       "    <tr>\n",
       "      <th>...</th>\n",
       "      <td>...</td>\n",
       "      <td>...</td>\n",
       "      <td>...</td>\n",
       "      <td>...</td>\n",
       "      <td>...</td>\n",
       "      <td>...</td>\n",
       "    </tr>\n",
       "    <tr>\n",
       "      <th>57</th>\n",
       "      <td>2019-08-29</td>\n",
       "      <td>B</td>\n",
       "      <td>596</td>\n",
       "      <td>544</td>\n",
       "      <td>87343.0</td>\n",
       "      <td>17708</td>\n",
       "    </tr>\n",
       "    <tr>\n",
       "      <th>58</th>\n",
       "      <td>2019-08-30</td>\n",
       "      <td>A</td>\n",
       "      <td>545</td>\n",
       "      <td>493</td>\n",
       "      <td>63563.5</td>\n",
       "      <td>18037</td>\n",
       "    </tr>\n",
       "    <tr>\n",
       "      <th>59</th>\n",
       "      <td>2019-08-30</td>\n",
       "      <td>B</td>\n",
       "      <td>620</td>\n",
       "      <td>567</td>\n",
       "      <td>90736.3</td>\n",
       "      <td>18198</td>\n",
       "    </tr>\n",
       "    <tr>\n",
       "      <th>60</th>\n",
       "      <td>2019-08-31</td>\n",
       "      <td>A</td>\n",
       "      <td>557</td>\n",
       "      <td>503</td>\n",
       "      <td>64554.9</td>\n",
       "      <td>18736</td>\n",
       "    </tr>\n",
       "    <tr>\n",
       "      <th>61</th>\n",
       "      <td>2019-08-31</td>\n",
       "      <td>B</td>\n",
       "      <td>640</td>\n",
       "      <td>586</td>\n",
       "      <td>92840.6</td>\n",
       "      <td>18916</td>\n",
       "    </tr>\n",
       "  </tbody>\n",
       "</table>\n",
       "<p>62 rows × 6 columns</p>\n",
       "</div>"
      ],
      "text/plain": [
       "         date group  transaction_id  user_id  revenue  visits\n",
       "0  2019-08-01     A              24       20   2356.8     719\n",
       "1  2019-08-01     B              21       20   1620.0     713\n",
       "2  2019-08-02     A              44       38   3860.3    1338\n",
       "3  2019-08-02     B              45       43   4243.8    1294\n",
       "4  2019-08-03     A              68       62   5675.5    1845\n",
       "..        ...   ...             ...      ...      ...     ...\n",
       "57 2019-08-29     B             596      544  87343.0   17708\n",
       "58 2019-08-30     A             545      493  63563.5   18037\n",
       "59 2019-08-30     B             620      567  90736.3   18198\n",
       "60 2019-08-31     A             557      503  64554.9   18736\n",
       "61 2019-08-31     B             640      586  92840.6   18916\n",
       "\n",
       "[62 rows x 6 columns]"
      ]
     },
     "execution_count": 31,
     "metadata": {},
     "output_type": "execute_result"
    }
   ],
   "source": [
    "cumulative_data"
   ]
  },
  {
   "cell_type": "code",
   "execution_count": 32,
   "metadata": {},
   "outputs": [],
   "source": [
    "# Renombrar columnas\n",
    "cumulative_data.columns= ['date', 'group', 'orders', 'buyers', 'revenue', 'visitors']"
   ]
  },
  {
   "cell_type": "code",
   "execution_count": 33,
   "metadata": {},
   "outputs": [],
   "source": [
    "# Métricas acumuladas según grupo A/B\n",
    "cumulative_A = cumulative_data[cumulative_data['group'] == 'A'][['date', 'orders', 'revenue', 'visitors']]\n",
    "\n",
    "cumulative_B = cumulative_data[cumulative_data['group'] == 'B'][['date', 'orders', 'revenue', 'visitors']]"
   ]
  },
  {
   "cell_type": "code",
   "execution_count": 34,
   "metadata": {},
   "outputs": [],
   "source": [
    "# Agregar columna de conversión, para cada grupo\n",
    "cumulative_A['conversion'] = cumulative_A['orders'] / cumulative_A['visitors']\n",
    "\n",
    "cumulative_B['conversion'] = cumulative_B['orders'] / cumulative_B['visitors']"
   ]
  },
  {
   "cell_type": "markdown",
   "metadata": {},
   "source": [
    "### Ingresos acumulados"
   ]
  },
  {
   "cell_type": "code",
   "execution_count": 35,
   "metadata": {},
   "outputs": [
    {
     "data": {
      "image/png": "[encoded data removed]",
      "text/plain": [
       "<Figure size 640x480 with 1 Axes>"
      ]
     },
     "metadata": {},
     "output_type": "display_data"
    }
   ],
   "source": [
    "# Ingreso acumulado por grupo\n",
    "plt.plot(cumulative_A['date'], cumulative_A['revenue'], label='A')\n",
    "plt.plot(cumulative_B['date'], cumulative_B['revenue'], label='B')\n",
    "plt.legend()\n",
    "plt.xticks(rotation=45)\n",
    "plt.show()"
   ]
  },
  {
   "cell_type": "markdown",
   "metadata": {},
   "source": [
    "Se produce una diferencia alrededor de la mitad de la prueba; en donde el grupo B toma la delantera para los ingresos; lo cual podría verse intervenido por pedidos más grandes -atípicos- en este grupo, por lo que también habría que realizar este análisis para ver si difieren. "
   ]
  },
  {
   "cell_type": "markdown",
   "metadata": {},
   "source": [
    "### Tamaño promedio de compra"
   ]
  },
  {
   "cell_type": "code",
   "execution_count": 36,
   "metadata": {},
   "outputs": [
    {
     "data": {
      "image/png": "[encoded data removed]",
      "text/plain": [
       "<Figure size 640x480 with 1 Axes>"
      ]
     },
     "metadata": {},
     "output_type": "display_data"
    }
   ],
   "source": [
    "# Tamaño promedio de compra acumulado, según grupo\n",
    "plt.plot(cumulative_A['date'], (cumulative_A['revenue'] / cumulative_A['orders']), label='A')\n",
    "plt.plot(cumulative_B['date'], (cumulative_B['revenue'] / cumulative_B['orders']), label='B')\n",
    "plt.legend()\n",
    "plt.xticks(rotation=45)\n",
    "plt.show()"
   ]
  },
  {
   "cell_type": "markdown",
   "metadata": {},
   "source": [
    "Hay bastante fluctuación de cada grupo dentro del mes, aunque el grupo B ha liderado el mayor tamaño promedio de compra durante casi todo el período. Sin embargo, aún falta analizar la conversión y ver si existen outliers que puedan interferir en los resultados. "
   ]
  },
  {
   "cell_type": "markdown",
   "metadata": {},
   "source": [
    "<div class=\"alert alert-block alert-success\">\n",
    "<b>Comentario del revisor (1ra Iteracion)</b> <a class=“tocSkip”></a>\n",
    "\n",
    "Buen trabajo, la visualización deja ver la diferencia claramente\n",
    "</div>"
   ]
  },
  {
   "cell_type": "code",
   "execution_count": 37,
   "metadata": {},
   "outputs": [],
   "source": [
    "# Unir datas de métricas acumuladas para luego calcular diferencia relativa\n",
    "cumulative_merge = cumulative_A.merge(cumulative_B, how='left', on='date', suffixes=['A', 'B'])"
   ]
  },
  {
   "cell_type": "code",
   "execution_count": 38,
   "metadata": {},
   "outputs": [
    {
     "data": {
      "text/html": [
       "<div>\n",
       "<style scoped>\n",
       "    .dataframe tbody tr th:only-of-type {\n",
       "        vertical-align: middle;\n",
       "    }\n",
       "\n",
       "    .dataframe tbody tr th {\n",
       "        vertical-align: top;\n",
       "    }\n",
       "\n",
       "    .dataframe thead th {\n",
       "        text-align: right;\n",
       "    }\n",
       "</style>\n",
       "<table border=\"1\" class=\"dataframe\">\n",
       "  <thead>\n",
       "    <tr style=\"text-align: right;\">\n",
       "      <th></th>\n",
       "      <th>date</th>\n",
       "      <th>ordersA</th>\n",
       "      <th>revenueA</th>\n",
       "      <th>visitorsA</th>\n",
       "      <th>conversionA</th>\n",
       "      <th>ordersB</th>\n",
       "      <th>revenueB</th>\n",
       "      <th>visitorsB</th>\n",
       "      <th>conversionB</th>\n",
       "    </tr>\n",
       "  </thead>\n",
       "  <tbody>\n",
       "    <tr>\n",
       "      <th>0</th>\n",
       "      <td>2019-08-01</td>\n",
       "      <td>24</td>\n",
       "      <td>2356.8</td>\n",
       "      <td>719</td>\n",
       "      <td>0.033380</td>\n",
       "      <td>21</td>\n",
       "      <td>1620.0</td>\n",
       "      <td>713</td>\n",
       "      <td>0.029453</td>\n",
       "    </tr>\n",
       "    <tr>\n",
       "      <th>1</th>\n",
       "      <td>2019-08-02</td>\n",
       "      <td>44</td>\n",
       "      <td>3860.3</td>\n",
       "      <td>1338</td>\n",
       "      <td>0.032885</td>\n",
       "      <td>45</td>\n",
       "      <td>4243.8</td>\n",
       "      <td>1294</td>\n",
       "      <td>0.034776</td>\n",
       "    </tr>\n",
       "    <tr>\n",
       "      <th>2</th>\n",
       "      <td>2019-08-03</td>\n",
       "      <td>68</td>\n",
       "      <td>5675.5</td>\n",
       "      <td>1845</td>\n",
       "      <td>0.036856</td>\n",
       "      <td>61</td>\n",
       "      <td>6050.6</td>\n",
       "      <td>1803</td>\n",
       "      <td>0.033833</td>\n",
       "    </tr>\n",
       "    <tr>\n",
       "      <th>3</th>\n",
       "      <td>2019-08-04</td>\n",
       "      <td>84</td>\n",
       "      <td>6822.1</td>\n",
       "      <td>2562</td>\n",
       "      <td>0.032787</td>\n",
       "      <td>78</td>\n",
       "      <td>7767.9</td>\n",
       "      <td>2573</td>\n",
       "      <td>0.030315</td>\n",
       "    </tr>\n",
       "    <tr>\n",
       "      <th>4</th>\n",
       "      <td>2019-08-05</td>\n",
       "      <td>109</td>\n",
       "      <td>8810.2</td>\n",
       "      <td>3318</td>\n",
       "      <td>0.032851</td>\n",
       "      <td>101</td>\n",
       "      <td>9262.9</td>\n",
       "      <td>3280</td>\n",
       "      <td>0.030793</td>\n",
       "    </tr>\n",
       "  </tbody>\n",
       "</table>\n",
       "</div>"
      ],
      "text/plain": [
       "        date  ordersA  revenueA  visitorsA  conversionA  ordersB  revenueB  \\\n",
       "0 2019-08-01       24    2356.8        719     0.033380       21    1620.0   \n",
       "1 2019-08-02       44    3860.3       1338     0.032885       45    4243.8   \n",
       "2 2019-08-03       68    5675.5       1845     0.036856       61    6050.6   \n",
       "3 2019-08-04       84    6822.1       2562     0.032787       78    7767.9   \n",
       "4 2019-08-05      109    8810.2       3318     0.032851      101    9262.9   \n",
       "\n",
       "   visitorsB  conversionB  \n",
       "0        713     0.029453  \n",
       "1       1294     0.034776  \n",
       "2       1803     0.033833  \n",
       "3       2573     0.030315  \n",
       "4       3280     0.030793  "
      ]
     },
     "execution_count": 38,
     "metadata": {},
     "output_type": "execute_result"
    }
   ],
   "source": [
    "cumulative_merge.head()"
   ]
  },
  {
   "cell_type": "code",
   "execution_count": 39,
   "metadata": {},
   "outputs": [
    {
     "data": {
      "image/png": "[encoded data removed]",
      "text/plain": [
       "<Figure size 640x480 with 1 Axes>"
      ]
     },
     "metadata": {},
     "output_type": "display_data"
    }
   ],
   "source": [
    "# Diferencia relativa en el tamaño de pedido promedio acumulado para el grupo B en comparación con el grupo A\n",
    "plt.plot(cumulative_merge['date'], \n",
    "         (cumulative_merge['revenueB'] / cumulative_merge['ordersB']) / \n",
    "         (cumulative_merge['revenueA'] / cumulative_merge['ordersA']) - 1)\n",
    "plt.axhline(y=0, color='black', linestyle='--')\n",
    "plt.xticks(rotation=45)\n",
    "plt.show()"
   ]
  },
  {
   "cell_type": "markdown",
   "metadata": {},
   "source": [
    "Se pueden apreciar 3 peaks en donde el grupo B supera en más del 20% al grupo A en cuanto al tamaño promedio de compra, peaks que quizá puedan deberse a compras atípicas bastante grandes, y a pesar de que en 2 ocasiones fue liderando el grupo A, el segmento B logró un tamaño promedio de compra mayor durante casi toda la duración de la prueba."
   ]
  },
  {
   "cell_type": "markdown",
   "metadata": {},
   "source": [
    "### Conversión"
   ]
  },
  {
   "cell_type": "code",
   "execution_count": 40,
   "metadata": {},
   "outputs": [
    {
     "data": {
      "image/png": "[encoded data removed]",
      "text/plain": [
       "<Figure size 640x480 with 1 Axes>"
      ]
     },
     "metadata": {},
     "output_type": "display_data"
    }
   ],
   "source": [
    "# Gráficas de conversion acumulada de cada grupo\n",
    "plt.plot(cumulative_merge['date'], cumulative_merge['conversionA'], label='A')\n",
    "plt.plot(cumulative_merge['date'], cumulative_merge['conversionB'], label='B')\n",
    "plt.legend()\n",
    "plt.xticks(rotation=45)\n",
    "plt.show()"
   ]
  },
  {
   "cell_type": "markdown",
   "metadata": {},
   "source": [
    "Si bien en una primera impresión se puede ver que el grupo B tiene una mayor conversión acumulada respecto al grupo A, la diferencia no es tan grande si nos fijamos en que el grupo A fluctúa alrededor de una conversión del 3%, mientras quepara el grupo B es del 3.4%.  \n",
    "Sin embargo, un aspecto importante a considerar es que el grupo B comenzó en un 3% pero va al alza manteniendose cercano al 3.4% hacia el final de la prueba, en cambio; el grupo A comenzó cerca del 3.4% logrando un peak de 3.7% en los primeros días, para luego decrecer y fluctuar levemente aldedor del 3% por lo que ha caído la conversión en este grupo."
   ]
  },
  {
   "cell_type": "code",
   "execution_count": 41,
   "metadata": {},
   "outputs": [
    {
     "data": {
      "image/png": "[encoded data removed]",
      "text/plain": [
       "<Figure size 640x480 with 1 Axes>"
      ]
     },
     "metadata": {},
     "output_type": "display_data"
    }
   ],
   "source": [
    "# Diferencia relativa de la conversión del grupo B en comparación con el grupo A\n",
    "plt.plot(cumulative_merge['date'], (cumulative_merge['conversionB'] / cumulative_merge['conversionA'] - 1))\n",
    "plt.axhline(y=0, color='black', linestyle='--')\n",
    "plt.xticks(rotation=45)\n",
    "plt.show()"
   ]
  },
  {
   "cell_type": "markdown",
   "metadata": {},
   "source": [
    "La conversión del grupo B fue entre un 10-20% más respecto al grupo A durante la prueba, liderando casi desde el comienzo del mes."
   ]
  },
  {
   "cell_type": "markdown",
   "metadata": {},
   "source": [
    "### N° de pedidos por usuario"
   ]
  },
  {
   "cell_type": "code",
   "execution_count": 42,
   "metadata": {},
   "outputs": [],
   "source": [
    "# Número de pedidos por usuario\n",
    "orders_by_users = (\n",
    "    orders.groupby('user_id', as_index=False)\n",
    "    .agg({'transaction_id':pd.Series.nunique})\n",
    ")\n",
    "orders_by_users.columns = ['user_id', 'orders']"
   ]
  },
  {
   "cell_type": "code",
   "execution_count": 43,
   "metadata": {},
   "outputs": [
    {
     "data": {
      "text/html": [
       "<div>\n",
       "<style scoped>\n",
       "    .dataframe tbody tr th:only-of-type {\n",
       "        vertical-align: middle;\n",
       "    }\n",
       "\n",
       "    .dataframe tbody tr th {\n",
       "        vertical-align: top;\n",
       "    }\n",
       "\n",
       "    .dataframe thead th {\n",
       "        text-align: right;\n",
       "    }\n",
       "</style>\n",
       "<table border=\"1\" class=\"dataframe\">\n",
       "  <thead>\n",
       "    <tr style=\"text-align: right;\">\n",
       "      <th></th>\n",
       "      <th>user_id</th>\n",
       "      <th>orders</th>\n",
       "    </tr>\n",
       "  </thead>\n",
       "  <tbody>\n",
       "    <tr>\n",
       "      <th>0</th>\n",
       "      <td>5114589</td>\n",
       "      <td>1</td>\n",
       "    </tr>\n",
       "    <tr>\n",
       "      <th>1</th>\n",
       "      <td>6958315</td>\n",
       "      <td>1</td>\n",
       "    </tr>\n",
       "    <tr>\n",
       "      <th>2</th>\n",
       "      <td>8300375</td>\n",
       "      <td>2</td>\n",
       "    </tr>\n",
       "    <tr>\n",
       "      <th>3</th>\n",
       "      <td>11685486</td>\n",
       "      <td>1</td>\n",
       "    </tr>\n",
       "    <tr>\n",
       "      <th>4</th>\n",
       "      <td>39475350</td>\n",
       "      <td>1</td>\n",
       "    </tr>\n",
       "    <tr>\n",
       "      <th>...</th>\n",
       "      <td>...</td>\n",
       "      <td>...</td>\n",
       "    </tr>\n",
       "    <tr>\n",
       "      <th>1026</th>\n",
       "      <td>4266935830</td>\n",
       "      <td>2</td>\n",
       "    </tr>\n",
       "    <tr>\n",
       "      <th>1027</th>\n",
       "      <td>4278982564</td>\n",
       "      <td>1</td>\n",
       "    </tr>\n",
       "    <tr>\n",
       "      <th>1028</th>\n",
       "      <td>4279090005</td>\n",
       "      <td>1</td>\n",
       "    </tr>\n",
       "    <tr>\n",
       "      <th>1029</th>\n",
       "      <td>4281247801</td>\n",
       "      <td>1</td>\n",
       "    </tr>\n",
       "    <tr>\n",
       "      <th>1030</th>\n",
       "      <td>4283872382</td>\n",
       "      <td>1</td>\n",
       "    </tr>\n",
       "  </tbody>\n",
       "</table>\n",
       "<p>1031 rows × 2 columns</p>\n",
       "</div>"
      ],
      "text/plain": [
       "         user_id  orders\n",
       "0        5114589       1\n",
       "1        6958315       1\n",
       "2        8300375       2\n",
       "3       11685486       1\n",
       "4       39475350       1\n",
       "...          ...     ...\n",
       "1026  4266935830       2\n",
       "1027  4278982564       1\n",
       "1028  4279090005       1\n",
       "1029  4281247801       1\n",
       "1030  4283872382       1\n",
       "\n",
       "[1031 rows x 2 columns]"
      ]
     },
     "execution_count": 43,
     "metadata": {},
     "output_type": "execute_result"
    }
   ],
   "source": [
    "orders_by_users"
   ]
  },
  {
   "cell_type": "code",
   "execution_count": 44,
   "metadata": {},
   "outputs": [
    {
     "data": {
      "image/png": "[encoded data removed]",
      "text/plain": [
       "<Figure size 640x480 with 1 Axes>"
      ]
     },
     "metadata": {},
     "output_type": "display_data"
    }
   ],
   "source": [
    "# Histograma de distribución para el n° de pedidos por usuario\n",
    "plt.hist(orders_by_users['orders'])\n",
    "plt.show()"
   ]
  },
  {
   "cell_type": "markdown",
   "metadata": {},
   "source": [
    "La gran mayoría de usuarios sólo realizó 1 pedidos, unos pocos realizaron 2 pedidos y algunos más pedidos."
   ]
  },
  {
   "cell_type": "code",
   "execution_count": 45,
   "metadata": {},
   "outputs": [],
   "source": [
    "# Rango de números desde 0 hasta el número de observaciones en orders_by_users\n",
    "x_values = pd.Series(range(0,len(orders_by_users)))"
   ]
  },
  {
   "cell_type": "code",
   "execution_count": 46,
   "metadata": {},
   "outputs": [
    {
     "data": {
      "image/png": "[encoded data removed]",
      "text/plain": [
       "<Figure size 640x480 with 1 Axes>"
      ]
     },
     "metadata": {},
     "output_type": "display_data"
    }
   ],
   "source": [
    "# Gráfico de dispersión del número de pedidos por usuario\n",
    "plt.scatter(x_values, orders_by_users['orders'])\n",
    "plt.show()"
   ]
  },
  {
   "cell_type": "markdown",
   "metadata": {},
   "source": [
    "Los pedidos se concentran mayoritariamente en 1 por usuario, y a pesar de haber algunos usuarios con 2 y hasta 10 pedidos; se buscarán los percentiles de la muestra para determinar qué valores serían atipicos."
   ]
  },
  {
   "cell_type": "markdown",
   "metadata": {},
   "source": [
    "<div class=\"alert alert-block alert-success\">\n",
    "<b>Comentario del revisor (1ra Iteracion)</b> <a class=“tocSkip”></a>\n",
    "\n",
    "Excelente trabajo con las visualizaciones y conclusiones desde las mismas, se pueden ver de manera correcta las diferencias entre grupos\n",
    "</div>"
   ]
  },
  {
   "cell_type": "code",
   "execution_count": 47,
   "metadata": {},
   "outputs": [
    {
     "data": {
      "text/plain": [
       "array([2., 4.])"
      ]
     },
     "execution_count": 47,
     "metadata": {},
     "output_type": "execute_result"
    }
   ],
   "source": [
    "# Buscar percentiles 95 y 99 \n",
    "np.percentile(orders_by_users['orders'], [95, 99])"
   ]
  },
  {
   "cell_type": "markdown",
   "metadata": {},
   "source": [
    "El 5% de usuarios realizó más de 2 pedidos, mientras que no más del 1% de los usuarios realizó más de 4 pedidos.\n",
    "Se considerará como anomalía el haber realizado 4 o más pedidos."
   ]
  },
  {
   "cell_type": "markdown",
   "metadata": {},
   "source": [
    "### Tamaño de los pedidos"
   ]
  },
  {
   "cell_type": "code",
   "execution_count": 48,
   "metadata": {},
   "outputs": [
    {
     "data": {
      "image/png": "[encoded data removed]",
      "text/plain": [
       "<Figure size 640x480 with 1 Axes>"
      ]
     },
     "metadata": {},
     "output_type": "display_data"
    }
   ],
   "source": [
    "# Histograma para la distribución del tamaño de compra\n",
    "plt.hist(orders['revenue'])\n",
    "plt.show()"
   ]
  },
  {
   "cell_type": "markdown",
   "metadata": {},
   "source": [
    "La gran mayoría de pedidos no tienen un precio superior a los 2000 us"
   ]
  },
  {
   "cell_type": "code",
   "execution_count": 49,
   "metadata": {},
   "outputs": [],
   "source": [
    "# Rango de valores desde 0 hasta el número de observaciones en ingresos\n",
    "x_values = pd.Series(range(0,len(orders['revenue'])))"
   ]
  },
  {
   "cell_type": "code",
   "execution_count": 50,
   "metadata": {},
   "outputs": [
    {
     "data": {
      "image/png": "[encoded data removed]",
      "text/plain": [
       "<Figure size 640x480 with 1 Axes>"
      ]
     },
     "metadata": {},
     "output_type": "display_data"
    }
   ],
   "source": [
    "# Gráfico de dispersión del tamaño de los pedidos\n",
    "plt.scatter(x_values, orders['revenue'])\n",
    "plt.show()"
   ]
  },
  {
   "cell_type": "markdown",
   "metadata": {},
   "source": [
    "Definitivamente no hay pedidos de más de 2000 us, el pedido de 20000 claramente es atípico. Se verificarán los percentiles"
   ]
  },
  {
   "cell_type": "code",
   "execution_count": 51,
   "metadata": {},
   "outputs": [
    {
     "data": {
      "text/plain": [
       "array([435.54 , 900.904])"
      ]
     },
     "execution_count": 51,
     "metadata": {},
     "output_type": "execute_result"
    }
   ],
   "source": [
    "# Calcular percentiles 95 y 99\n",
    "np.percentile(orders['revenue'], [95, 99])"
   ]
  },
  {
   "cell_type": "markdown",
   "metadata": {},
   "source": [
    "No más del 5% de los usuarios realiza compras de más de 436 us, mientras que tan sólo el 1% realizó pedidos de más de 900 us.  \n",
    "Se determinará como valor atípico aquellos pedidos de más de 600 us"
   ]
  },
  {
   "cell_type": "markdown",
   "metadata": {},
   "source": [
    "<div class=\"alert alert-block alert-success\">\n",
    "<b>Comentario general (1ra Iteracion)</b> <a class=“tocSkip”></a>\n",
    "\n",
    "Buen trabajo revisando los percentiles, encontrar valores anómalos puede ser crucial al momento de mostrar métricas correctas ya que estos pueden afectar los resultados finales\n",
    "</div>"
   ]
  },
  {
   "cell_type": "markdown",
   "metadata": {},
   "source": [
    "### Diferencias de conversión entre los grupos"
   ]
  },
  {
   "cell_type": "code",
   "execution_count": 52,
   "metadata": {},
   "outputs": [],
   "source": [
    "# Cantidad de pedidos por usuario del grupo A\n",
    "orders_by_users_A = (\n",
    "    orders[orders['group'] == 'A']\n",
    "    .groupby('user_id', as_index=False)\n",
    "    .agg({'transaction_id':pd.Series.nunique})\n",
    ")\n",
    "orders_by_users_A.columns = ['user_id', 'orders']"
   ]
  },
  {
   "cell_type": "code",
   "execution_count": 53,
   "metadata": {},
   "outputs": [],
   "source": [
    "# Cantidad de pedidos por usuario del grupo B\n",
    "orders_by_users_B = (\n",
    "    orders[orders['group'] == 'B']\n",
    "    .groupby('user_id', as_index=False)\n",
    "    .agg({'transaction_id':pd.Series.nunique})\n",
    ")\n",
    "orders_by_users_B.columns = ['user_id', 'orders']"
   ]
  },
  {
   "cell_type": "code",
   "execution_count": 54,
   "metadata": {},
   "outputs": [
    {
     "data": {
      "text/plain": [
       "18233"
      ]
     },
     "execution_count": 54,
     "metadata": {},
     "output_type": "execute_result"
    }
   ],
   "source": [
    "# Usuarios sin pedidos en el grupo A\n",
    "visits[visits['group']=='A']['visits'].sum() - len(orders_by_users_A['orders'])"
   ]
  },
  {
   "cell_type": "code",
   "execution_count": 55,
   "metadata": {},
   "outputs": [
    {
     "data": {
      "text/plain": [
       "0        0\n",
       "1        0\n",
       "2        0\n",
       "3        0\n",
       "4        0\n",
       "        ..\n",
       "18228    0\n",
       "18229    0\n",
       "18230    0\n",
       "18231    0\n",
       "18232    0\n",
       "Name: orders, Length: 18233, dtype: int64"
      ]
     },
     "execution_count": 55,
     "metadata": {},
     "output_type": "execute_result"
    }
   ],
   "source": [
    "# Crear una serie con 0 para los usuarios que no hicieron pedidos\n",
    "pd.Series(0, index=np.arange(visits[visits['group']=='A']['visits'].sum() - len(orders_by_users_A['orders'])), name='orders')"
   ]
  },
  {
   "cell_type": "code",
   "execution_count": 56,
   "metadata": {},
   "outputs": [],
   "source": [
    "# Unir la serie con pedidos por usuario y los usuarios con 0 pedidos, para formar la muestra del grupo A\n",
    "sample_A = pd.concat(\n",
    "    [orders_by_users_A['orders'],\n",
    "    pd.Series(0, index=np.arange(visits[visits['group']=='A']['visits'].sum() - len(orders_by_users_A['orders']))\n",
    "    , name='orders')]\n",
    "    ,axis=0\n",
    ")"
   ]
  },
  {
   "cell_type": "code",
   "execution_count": 57,
   "metadata": {},
   "outputs": [
    {
     "data": {
      "text/plain": [
       "18330"
      ]
     },
     "execution_count": 57,
     "metadata": {},
     "output_type": "execute_result"
    }
   ],
   "source": [
    "# Usuarios sin pedidos en el grupo B\n",
    "visits[visits['group']=='B']['visits'].sum() - len(orders_by_users_B['orders'])"
   ]
  },
  {
   "cell_type": "code",
   "execution_count": 58,
   "metadata": {},
   "outputs": [
    {
     "data": {
      "text/plain": [
       "0        0\n",
       "1        0\n",
       "2        0\n",
       "3        0\n",
       "4        0\n",
       "        ..\n",
       "18325    0\n",
       "18326    0\n",
       "18327    0\n",
       "18328    0\n",
       "18329    0\n",
       "Name: orders, Length: 18330, dtype: int64"
      ]
     },
     "execution_count": 58,
     "metadata": {},
     "output_type": "execute_result"
    }
   ],
   "source": [
    "# Crear una serie con 0 para los usuarios que no hicieron pedidos\n",
    "pd.Series(0, index=np.arange(visits[visits['group']=='B']['visits'].sum() - len(orders_by_users_B['orders'])), name='orders')"
   ]
  },
  {
   "cell_type": "code",
   "execution_count": 59,
   "metadata": {},
   "outputs": [],
   "source": [
    "# Unir la serie con pedidos por usuario y los usuarios con 0 pedidos, para formar la muestra del grupo B\n",
    "sample_B = pd.concat(\n",
    "    [orders_by_users_B['orders'],\n",
    "    pd.Series(0, index=np.arange(visits[visits['group']=='B']['visits'].sum() - len(orders_by_users_B['orders']))\n",
    "    , name='orders')]\n",
    "    ,axis=0\n",
    ")"
   ]
  },
  {
   "cell_type": "code",
   "execution_count": 60,
   "metadata": {},
   "outputs": [
    {
     "data": {
      "text/plain": [
       "'0.017'"
      ]
     },
     "execution_count": 60,
     "metadata": {},
     "output_type": "execute_result"
    }
   ],
   "source": [
    "# Significancia estadística de la diferencia en la conversión entre los grupos. Valor p:\n",
    "\"{0:.3f}\".format(st.mannwhitneyu(sample_A, sample_B)[1])"
   ]
  },
  {
   "cell_type": "markdown",
   "metadata": {},
   "source": [
    "El valor p es inferior a 0.05 por lo que *se rechaza la hipótesis nula*; las tasas de conversión entre los 2 grupos, de los datos sin procesar, tiene diferencias estadisticamente significativas."
   ]
  },
  {
   "cell_type": "code",
   "execution_count": 61,
   "metadata": {},
   "outputs": [
    {
     "data": {
      "text/plain": [
       "'0.138'"
      ]
     },
     "execution_count": 61,
     "metadata": {},
     "output_type": "execute_result"
    }
   ],
   "source": [
    "# Diferencia Relativa de la conversión del grupo B en comparación con el grupo A\n",
    "\"{0:.3f}\".format(sample_B.mean() / sample_A.mean() - 1)"
   ]
  },
  {
   "cell_type": "markdown",
   "metadata": {},
   "source": [
    "El grupo B tiene una ganancia en la conversión relativa del 13.8% respecto al grupo A"
   ]
  },
  {
   "cell_type": "markdown",
   "metadata": {},
   "source": [
    "### Diferencias en el tamaño promedio del pedido"
   ]
  },
  {
   "cell_type": "code",
   "execution_count": 62,
   "metadata": {},
   "outputs": [
    {
     "data": {
      "text/plain": [
       "'0.692'"
      ]
     },
     "execution_count": 62,
     "metadata": {},
     "output_type": "execute_result"
    }
   ],
   "source": [
    "# Significancia estadística de la diferencia en el tamaño promedio de pedido entre los grupos. Valor p\n",
    "\"{0:.3f}\".format(st.mannwhitneyu(orders[orders['group'] == 'A']['revenue'], orders[orders['group'] == 'B']['revenue'])[1])"
   ]
  },
  {
   "cell_type": "markdown",
   "metadata": {},
   "source": [
    "El valor p es mayor a 0.05 por lo que *no se puede rechazar la hipotesis nula*; no hay una diferencia estadísticamente significativa en el tamaño promedio de pedido entre ambos grupos."
   ]
  },
  {
   "cell_type": "code",
   "execution_count": 63,
   "metadata": {},
   "outputs": [
    {
     "data": {
      "text/plain": [
       "'0.252'"
      ]
     },
     "execution_count": 63,
     "metadata": {},
     "output_type": "execute_result"
    }
   ],
   "source": [
    "# Diferencia relativa entre el tamaño promedio del pedido del grupo B comparado con el grupo A\n",
    "\"{0:.3f}\".format(orders[orders['group'] == 'B']['revenue'].mean() / orders[orders['group'] == 'A']['revenue'].mean() - 1)"
   ]
  },
  {
   "cell_type": "markdown",
   "metadata": {},
   "source": [
    "El grupo B tiene una ganancia relativa para el tamaño promedio del pedido, de 25.2% en comparación con el grupo A"
   ]
  },
  {
   "cell_type": "markdown",
   "metadata": {},
   "source": [
    "<div class=\"alert alert-block alert-warning\">\n",
    "<b>Comentario general (1ra Iteracion)</b> <a class=“tocSkip”></a>\n",
    "\n",
    "Buen trabajo aplicando las pruebas de hipótesis con los datos sin filtrar, veamos como resulta la misma prueba con los datos filtrados. Te recomiendo que aproveches más los strings formateados agregando texto que describa el valor que vas a mostrar, así es más fácil entender lo que quieres comunicar con esos números\n",
    "</div>"
   ]
  },
  {
   "cell_type": "markdown",
   "metadata": {},
   "source": [
    "## Análisis con datos filtrados"
   ]
  },
  {
   "cell_type": "markdown",
   "metadata": {},
   "source": [
    "Los valores atípicos se definieron para aquellos usuarios con *más de 3 pedidos*, considerando que >2 pedidos es el 5% de usuarios y >4 pedidos el 1%. En cuanto al tamaño de la compra, se considerará anomalía el pedido de >600 us teniendo en cuenta que >436 us es el 5% de los pedidos y >900 us el 1%"
   ]
  },
  {
   "cell_type": "code",
   "execution_count": 64,
   "metadata": {},
   "outputs": [],
   "source": [
    "# Usuarios con valores atípicos\n",
    "many_orders = pd.concat(\n",
    "    [orders_by_users_A[orders_by_users_A['orders'] > 3]['user_id'],\n",
    "    orders_by_users_B[orders_by_users_B['orders'] > 3]['user_id']],\n",
    "    axis=0\n",
    ")\n",
    "\n",
    "expensive_orders = orders[orders['revenue'] > 600]['user_id']\n",
    "#expensive_orders.name = 'user_id'"
   ]
  },
  {
   "cell_type": "code",
   "execution_count": 65,
   "metadata": {},
   "outputs": [],
   "source": [
    "# Unir id de usuarios con >3 pedidos y >600 us\n",
    "atypical_users = (\n",
    "    pd.concat([many_orders, expensive_orders], axis=0)\n",
    "    .drop_duplicates()\n",
    "    .sort_values()\n",
    ")"
   ]
  },
  {
   "cell_type": "code",
   "execution_count": 66,
   "metadata": {},
   "outputs": [
    {
     "data": {
      "text/plain": [
       "1099    148427295\n",
       "18      199603092\n",
       "23      237748145\n",
       "684     358944393\n",
       "648     382846391\n",
       "Name: user_id, dtype: int64"
      ]
     },
     "execution_count": 66,
     "metadata": {},
     "output_type": "execute_result"
    }
   ],
   "source": [
    "atypical_users.head()"
   ]
  },
  {
   "cell_type": "code",
   "execution_count": 67,
   "metadata": {},
   "outputs": [],
   "source": [
    "# Muestra del grupo A sin los usuarios atipicos\n",
    "sample_A_filtered = pd.concat(\n",
    "    [orders_by_users_A[np.logical_not(orders_by_users_A['user_id'].isin(atypical_users))]['orders'], \n",
    "    pd.Series(0, index= np.arange(visits[visits['group'] == 'A']['visits'].sum() - len(orders_by_users_A['orders'])), name='orders')], \n",
    "    axis=0\n",
    ")"
   ]
  },
  {
   "cell_type": "code",
   "execution_count": 68,
   "metadata": {},
   "outputs": [],
   "source": [
    "# Muestra del grupo B sin los usuarios atipicos\n",
    "sample_B_filtered = pd.concat(\n",
    "    [orders_by_users_B[np.logical_not(orders_by_users_B['user_id'].isin(atypical_users))]['orders'], \n",
    "    pd.Series(0, index= np.arange(visits[visits['group'] == 'B']['visits'].sum() - len(orders_by_users_B['orders'])), name='orders')], \n",
    "    axis=0\n",
    ")"
   ]
  },
  {
   "cell_type": "markdown",
   "metadata": {},
   "source": [
    "### Conversión"
   ]
  },
  {
   "cell_type": "code",
   "execution_count": 69,
   "metadata": {},
   "outputs": [
    {
     "data": {
      "text/plain": [
       "'0.010'"
      ]
     },
     "execution_count": 69,
     "metadata": {},
     "output_type": "execute_result"
    }
   ],
   "source": [
    "# Significancia estadística de la diferencia en la conversión entre los grupos con los datos filtrados\n",
    "\"{0:.3f}\".format(st.mannwhitneyu(sample_A_filtered, sample_B_filtered)[1])"
   ]
  },
  {
   "cell_type": "markdown",
   "metadata": {},
   "source": [
    "Valor p < 0.05 por tanto, hay significancia estadística para *rechazar la hipótesis*; las tasas de conversión son diferentes entre ambos grupos"
   ]
  },
  {
   "cell_type": "code",
   "execution_count": 70,
   "metadata": {},
   "outputs": [
    {
     "data": {
      "text/plain": [
       "'0.162'"
      ]
     },
     "execution_count": 70,
     "metadata": {},
     "output_type": "execute_result"
    }
   ],
   "source": [
    "# Diferencia relativa de la tasa de conversión entre el grupo B vs A, con los datos filtrados\n",
    "\"{0:.3f}\".format(sample_B_filtered.mean() / sample_A_filtered.mean() - 1)"
   ]
  },
  {
   "cell_type": "markdown",
   "metadata": {},
   "source": [
    "La ganancia relativa del grupo B vs A es un poco mayor al filtrar los datos; en este caso el grupo B tuvo una covnersión de 16.2% más que el grupo A (sin filtrar los datos esta había sido de 13.8%), por lo que definitivamente las tasas de conversión difieren entre ambos grupos, teniendo el grupo B una mayor tasa de conversión."
   ]
  },
  {
   "cell_type": "markdown",
   "metadata": {},
   "source": [
    "### Tamaño promedio del pedido"
   ]
  },
  {
   "cell_type": "code",
   "execution_count": 71,
   "metadata": {},
   "outputs": [
    {
     "data": {
      "text/plain": [
       "'0.688'"
      ]
     },
     "execution_count": 71,
     "metadata": {},
     "output_type": "execute_result"
    }
   ],
   "source": [
    "# Significancia estadística de la diferencia en el tamaño promedio de pedido entre los grupos, con los datos filtrados\n",
    "\"{0:.3f}\".format(\n",
    "    st.mannwhitneyu(orders[np.logical_and(orders['group'] == 'A',\n",
    "                                         np.logical_not(orders['user_id'].isin(atypical_users)))]['revenue'],\n",
    "                   orders[np.logical_and(orders['group'] == 'B',\n",
    "                                        np.logical_not(orders['user_id'].isin(atypical_users)))]['revenue'])[1]\n",
    ")"
   ]
  },
  {
   "cell_type": "markdown",
   "metadata": {},
   "source": [
    "También con los datos filtrados, el valor p > 0.05 por lo que *no se puede rechazar la hipótesis*; la diferencia en el tamaño promedio del pedido no es significativa entre ambos grupos."
   ]
  },
  {
   "cell_type": "code",
   "execution_count": 72,
   "metadata": {},
   "outputs": [
    {
     "data": {
      "text/plain": [
       "'0.058'"
      ]
     },
     "execution_count": 72,
     "metadata": {},
     "output_type": "execute_result"
    }
   ],
   "source": [
    "# Diferencia relativa entre el grupo B y A para el tamaño promedio del pedido (datos filtrados)\n",
    "\"{0:.3f}\".format(\n",
    "    orders[np.logical_and(orders['group'] == 'B',\n",
    "        np.logical_not(orders['user_id'].isin(atypical_users)))]['revenue'].mean() /\n",
    "    orders[np.logical_and(orders['group'] == 'A',\n",
    "        np.logical_not(orders['user_id'].isin(atypical_users)))]['revenue'].mean() - 1\n",
    ")"
   ]
  },
  {
   "cell_type": "markdown",
   "metadata": {},
   "source": [
    "Al filtrar los datos la \"ganancia relativa\" del grupo B respecto al A, disminuye considerablemente, pues sin los valores atípicos de los pedidos, el grupo B tiene sólo un 5.8% mayor valor promedio de pedido, lo que difiere bastante sin filtrar los datos pues en ese caso la diferencia relativa era de un 25.2% más para el grupo B"
   ]
  },
  {
   "cell_type": "markdown",
   "metadata": {},
   "source": [
    "<div class=\"alert alert-block alert-success\">\n",
    "<b>Comentario general (1ra Iteracion)</b> <a class=“tocSkip”></a>\n",
    "\n",
    "Muy bien aplicada la prueba de hipótesis con los datos filtrados!\n",
    "</div>"
   ]
  },
  {
   "cell_type": "markdown",
   "metadata": {},
   "source": [
    "## Decisión basada en los resultados de la prueba"
   ]
  },
  {
   "cell_type": "markdown",
   "metadata": {},
   "source": [
    "Si bien al comenzar el test A/B fue el grupo B que lideró en todas las métricas; conversión, mayores ingresos y mayor tamaño del pedido; al quitar los valores atípicos, estos resultados cambiaron pues a pesar de continuar liderando la conversión, se pudo observar que en cuanto a tamaño promedio del pedido no existen diferencias estadísticamente significativas; el grupo B supera muy levemente al grupo A, es decir; los pedidos con un valor atípico fueron los que afectaron este parámetro. Sin embargo, aún con los datos filtrados, la conversión es significativamente mayor en el grupo B, por lo que tras los datos obtenidos, es suficiente para determinar detener la prueba y considerar al grupo B con una mejor tasa de conversión, lo cual podría próximamente brindar mayores ingresos si se apunta a los clientes que realizan pedidos de mayor tamaño y fidelizar a aqque"
   ]
  },
  {
   "cell_type": "markdown",
   "metadata": {},
   "source": [
    "<div class=\"alert alert-block alert-success\">\n",
    "<b>Comentario general (1ra Iteracion)</b> <a class=“tocSkip”></a>\n",
    "\n",
    "Hiciste un buen trabajo con las visualizaciones, los cálculos y  los ejercicios propuestos los has resuelto muy bien planteando conclusiones claras sobre los resultados obtenidos en cada paso.\n",
    "    \n",
    "Planteaste muy buenas conclusiones en base a tus datos que es un punto importante que deben tener tus proyectos, como Data Analyst debes buscar apoyar en la toma de decisiones basadas en datos.\n",
    "    \n",
    "Saludos!\n",
    "</div>"
   ]
  }
 ],
 "metadata": {
  "ExecuteTimeLog": [
   {
    "duration": 2484,
    "start_time": "2024-11-14T20:52:08.011Z"
   },
   {
    "duration": 8,
    "start_time": "2024-11-14T20:53:07.500Z"
   },
   {
    "duration": 8,
    "start_time": "2024-11-14T20:53:26.719Z"
   },
   {
    "duration": 8,
    "start_time": "2024-11-14T20:53:43.237Z"
   },
   {
    "duration": 6,
    "start_time": "2024-11-14T20:53:58.477Z"
   },
   {
    "duration": 7,
    "start_time": "2024-11-14T20:54:12.232Z"
   },
   {
    "duration": 7,
    "start_time": "2024-11-14T20:54:13.316Z"
   },
   {
    "duration": 5,
    "start_time": "2024-11-14T20:54:55.685Z"
   },
   {
    "duration": 10,
    "start_time": "2024-11-14T21:11:40.947Z"
   },
   {
    "duration": 9,
    "start_time": "2024-11-14T21:12:50.779Z"
   },
   {
    "duration": 4,
    "start_time": "2024-11-14T21:14:01.627Z"
   },
   {
    "duration": 8,
    "start_time": "2024-11-14T21:14:52.482Z"
   },
   {
    "duration": 2458,
    "start_time": "2024-11-15T01:55:53.939Z"
   },
   {
    "duration": 15,
    "start_time": "2024-11-15T01:55:56.399Z"
   },
   {
    "duration": 8,
    "start_time": "2024-11-15T01:55:56.416Z"
   },
   {
    "duration": 4,
    "start_time": "2024-11-15T01:55:56.427Z"
   },
   {
    "duration": 8,
    "start_time": "2024-11-15T01:55:56.432Z"
   },
   {
    "duration": 4,
    "start_time": "2024-11-15T01:55:56.441Z"
   },
   {
    "duration": 7,
    "start_time": "2024-11-15T01:55:56.446Z"
   },
   {
    "duration": 12,
    "start_time": "2024-11-15T02:07:57.750Z"
   },
   {
    "duration": 291,
    "start_time": "2024-11-15T02:08:28.507Z"
   },
   {
    "duration": 263,
    "start_time": "2024-11-15T02:08:36.552Z"
   },
   {
    "duration": 6,
    "start_time": "2024-11-15T02:08:49.363Z"
   },
   {
    "duration": 483,
    "start_time": "2024-11-15T02:09:18.999Z"
   },
   {
    "duration": 4,
    "start_time": "2024-11-15T02:09:35.949Z"
   },
   {
    "duration": 260,
    "start_time": "2024-11-15T02:09:48.117Z"
   },
   {
    "duration": 710,
    "start_time": "2024-11-15T02:10:04.318Z"
   },
   {
    "duration": 3,
    "start_time": "2024-11-15T02:10:12.923Z"
   },
   {
    "duration": 249,
    "start_time": "2024-11-15T02:12:43.545Z"
   },
   {
    "duration": 260,
    "start_time": "2024-11-15T02:13:10.796Z"
   },
   {
    "duration": 257,
    "start_time": "2024-11-15T02:21:04.440Z"
   },
   {
    "duration": 9,
    "start_time": "2024-11-15T02:25:45.268Z"
   },
   {
    "duration": 9,
    "start_time": "2024-11-15T02:26:16.306Z"
   },
   {
    "duration": 14,
    "start_time": "2024-11-15T02:27:04.366Z"
   },
   {
    "duration": 6,
    "start_time": "2024-11-15T02:27:23.535Z"
   },
   {
    "duration": 5,
    "start_time": "2024-11-15T02:27:29.029Z"
   },
   {
    "duration": 6,
    "start_time": "2024-11-15T02:27:33.907Z"
   },
   {
    "duration": 5,
    "start_time": "2024-11-15T02:29:47.340Z"
   },
   {
    "duration": 7,
    "start_time": "2024-11-15T02:30:12.526Z"
   },
   {
    "duration": 5,
    "start_time": "2024-11-15T02:30:43.865Z"
   },
   {
    "duration": 4,
    "start_time": "2024-11-15T02:33:04.386Z"
   },
   {
    "duration": 12,
    "start_time": "2024-11-15T02:39:56.985Z"
   },
   {
    "duration": 12,
    "start_time": "2024-11-15T02:41:06.345Z"
   },
   {
    "duration": 12,
    "start_time": "2024-11-15T02:41:12.766Z"
   },
   {
    "duration": 5,
    "start_time": "2024-11-15T03:12:13.153Z"
   },
   {
    "duration": 3,
    "start_time": "2024-11-15T03:28:36.055Z"
   },
   {
    "duration": 4,
    "start_time": "2024-11-15T03:29:12.591Z"
   },
   {
    "duration": 7,
    "start_time": "2024-11-15T03:29:16.831Z"
   },
   {
    "duration": 460,
    "start_time": "2024-11-15T03:36:04.875Z"
   },
   {
    "duration": 68,
    "start_time": "2024-11-15T03:38:53.243Z"
   },
   {
    "duration": 3,
    "start_time": "2024-11-15T03:39:07.732Z"
   },
   {
    "duration": 10,
    "start_time": "2024-11-15T03:39:18.730Z"
   },
   {
    "duration": 4,
    "start_time": "2024-11-15T03:40:00.173Z"
   },
   {
    "duration": 3,
    "start_time": "2024-11-15T03:56:34.093Z"
   },
   {
    "duration": 8,
    "start_time": "2024-11-15T03:56:48.250Z"
   },
   {
    "duration": 10,
    "start_time": "2024-11-15T04:02:05.591Z"
   },
   {
    "duration": 68,
    "start_time": "2024-11-15T04:02:42.891Z"
   },
   {
    "duration": 71,
    "start_time": "2024-11-15T04:03:22.513Z"
   },
   {
    "duration": 2768,
    "start_time": "2024-11-15T20:20:34.142Z"
   },
   {
    "duration": 12,
    "start_time": "2024-11-15T20:20:36.912Z"
   },
   {
    "duration": 11,
    "start_time": "2024-11-15T20:20:36.930Z"
   },
   {
    "duration": 3,
    "start_time": "2024-11-15T20:20:36.943Z"
   },
   {
    "duration": 10,
    "start_time": "2024-11-15T20:20:36.947Z"
   },
   {
    "duration": 4,
    "start_time": "2024-11-15T20:20:36.959Z"
   },
   {
    "duration": 10,
    "start_time": "2024-11-15T20:20:36.967Z"
   },
   {
    "duration": 4,
    "start_time": "2024-11-15T20:20:36.979Z"
   },
   {
    "duration": 9,
    "start_time": "2024-11-15T20:20:36.984Z"
   },
   {
    "duration": 14,
    "start_time": "2024-11-15T20:20:37.031Z"
   },
   {
    "duration": 14,
    "start_time": "2024-11-15T20:20:37.047Z"
   },
   {
    "duration": 12,
    "start_time": "2024-11-15T20:20:37.063Z"
   },
   {
    "duration": 12,
    "start_time": "2024-11-15T20:20:37.077Z"
   },
   {
    "duration": 6,
    "start_time": "2024-11-15T20:20:37.090Z"
   },
   {
    "duration": 677,
    "start_time": "2024-11-15T20:20:37.097Z"
   },
   {
    "duration": 0,
    "start_time": "2024-11-15T20:20:37.776Z"
   },
   {
    "duration": 0,
    "start_time": "2024-11-15T20:20:37.777Z"
   },
   {
    "duration": 0,
    "start_time": "2024-11-15T20:20:37.778Z"
   },
   {
    "duration": 0,
    "start_time": "2024-11-15T20:20:37.779Z"
   },
   {
    "duration": 0,
    "start_time": "2024-11-15T20:20:37.781Z"
   },
   {
    "duration": 0,
    "start_time": "2024-11-15T20:20:37.782Z"
   },
   {
    "duration": 0,
    "start_time": "2024-11-15T20:20:37.784Z"
   },
   {
    "duration": 0,
    "start_time": "2024-11-15T20:20:37.785Z"
   },
   {
    "duration": 0,
    "start_time": "2024-11-15T20:20:37.786Z"
   },
   {
    "duration": 44,
    "start_time": "2024-11-15T20:21:40.138Z"
   },
   {
    "duration": 56,
    "start_time": "2024-11-15T20:22:01.554Z"
   },
   {
    "duration": 8,
    "start_time": "2024-11-15T20:22:28.851Z"
   },
   {
    "duration": 3,
    "start_time": "2024-11-15T20:22:41.932Z"
   },
   {
    "duration": 5,
    "start_time": "2024-11-15T20:22:51.884Z"
   },
   {
    "duration": 9,
    "start_time": "2024-11-15T20:22:58.674Z"
   },
   {
    "duration": 5,
    "start_time": "2024-11-15T20:23:05.050Z"
   },
   {
    "duration": 5,
    "start_time": "2024-11-15T20:23:06.092Z"
   },
   {
    "duration": 13,
    "start_time": "2024-11-15T20:23:11.205Z"
   },
   {
    "duration": 9,
    "start_time": "2024-11-15T20:23:12.792Z"
   },
   {
    "duration": 7,
    "start_time": "2024-11-15T20:23:15.053Z"
   },
   {
    "duration": 4,
    "start_time": "2024-11-15T20:23:16.870Z"
   },
   {
    "duration": 5,
    "start_time": "2024-11-15T20:23:20.532Z"
   },
   {
    "duration": 8,
    "start_time": "2024-11-15T20:23:22.007Z"
   },
   {
    "duration": 305,
    "start_time": "2024-11-15T20:24:29.770Z"
   },
   {
    "duration": 69,
    "start_time": "2024-11-15T20:24:52.861Z"
   },
   {
    "duration": 85,
    "start_time": "2024-11-15T20:25:37.430Z"
   },
   {
    "duration": 8,
    "start_time": "2024-11-15T20:28:43.194Z"
   },
   {
    "duration": 71,
    "start_time": "2024-11-15T20:29:08.869Z"
   },
   {
    "duration": 2,
    "start_time": "2024-11-15T20:29:59.330Z"
   },
   {
    "duration": 6,
    "start_time": "2024-11-15T20:29:59.334Z"
   },
   {
    "duration": 7,
    "start_time": "2024-11-15T20:29:59.342Z"
   },
   {
    "duration": 3,
    "start_time": "2024-11-15T20:29:59.351Z"
   },
   {
    "duration": 9,
    "start_time": "2024-11-15T20:29:59.356Z"
   },
   {
    "duration": 3,
    "start_time": "2024-11-15T20:29:59.367Z"
   },
   {
    "duration": 9,
    "start_time": "2024-11-15T20:29:59.372Z"
   },
   {
    "duration": 4,
    "start_time": "2024-11-15T20:29:59.382Z"
   },
   {
    "duration": 9,
    "start_time": "2024-11-15T20:29:59.431Z"
   },
   {
    "duration": 11,
    "start_time": "2024-11-15T20:29:59.442Z"
   },
   {
    "duration": 9,
    "start_time": "2024-11-15T20:29:59.454Z"
   },
   {
    "duration": 9,
    "start_time": "2024-11-15T20:29:59.464Z"
   },
   {
    "duration": 7,
    "start_time": "2024-11-15T20:29:59.475Z"
   },
   {
    "duration": 6,
    "start_time": "2024-11-15T20:29:59.484Z"
   },
   {
    "duration": 41,
    "start_time": "2024-11-15T20:29:59.491Z"
   },
   {
    "duration": 5,
    "start_time": "2024-11-15T20:29:59.535Z"
   },
   {
    "duration": 6,
    "start_time": "2024-11-15T20:29:59.542Z"
   },
   {
    "duration": 10,
    "start_time": "2024-11-15T20:29:59.551Z"
   },
   {
    "duration": 10,
    "start_time": "2024-11-15T20:29:59.563Z"
   },
   {
    "duration": 6,
    "start_time": "2024-11-15T20:29:59.574Z"
   },
   {
    "duration": 4,
    "start_time": "2024-11-15T20:29:59.581Z"
   },
   {
    "duration": 8,
    "start_time": "2024-11-15T20:29:59.587Z"
   },
   {
    "duration": 43,
    "start_time": "2024-11-15T20:29:59.596Z"
   },
   {
    "duration": 74,
    "start_time": "2024-11-15T20:29:59.642Z"
   },
   {
    "duration": 153,
    "start_time": "2024-11-15T20:40:11.737Z"
   },
   {
    "duration": 11,
    "start_time": "2024-11-15T20:40:13.970Z"
   },
   {
    "duration": 88,
    "start_time": "2024-11-15T20:43:26.628Z"
   },
   {
    "duration": 11,
    "start_time": "2024-11-15T20:43:31.938Z"
   },
   {
    "duration": 6,
    "start_time": "2024-11-15T20:57:00.746Z"
   },
   {
    "duration": 11,
    "start_time": "2024-11-15T20:57:34.889Z"
   },
   {
    "duration": 2,
    "start_time": "2024-11-15T20:58:02.973Z"
   },
   {
    "duration": 6,
    "start_time": "2024-11-15T21:04:27.868Z"
   },
   {
    "duration": 8,
    "start_time": "2024-11-15T21:04:35.908Z"
   },
   {
    "duration": 340,
    "start_time": "2024-11-15T21:10:25.751Z"
   },
   {
    "duration": 132,
    "start_time": "2024-11-15T21:12:05.134Z"
   },
   {
    "duration": 130,
    "start_time": "2024-11-15T21:24:22.637Z"
   },
   {
    "duration": 141,
    "start_time": "2024-11-15T21:24:37.839Z"
   },
   {
    "duration": 2731,
    "start_time": "2024-11-16T01:15:40.197Z"
   },
   {
    "duration": 10,
    "start_time": "2024-11-16T01:15:42.930Z"
   },
   {
    "duration": 13,
    "start_time": "2024-11-16T01:15:42.941Z"
   },
   {
    "duration": 4,
    "start_time": "2024-11-16T01:15:42.956Z"
   },
   {
    "duration": 10,
    "start_time": "2024-11-16T01:15:42.962Z"
   },
   {
    "duration": 5,
    "start_time": "2024-11-16T01:15:42.974Z"
   },
   {
    "duration": 10,
    "start_time": "2024-11-16T01:15:42.982Z"
   },
   {
    "duration": 38,
    "start_time": "2024-11-16T01:15:42.994Z"
   },
   {
    "duration": 9,
    "start_time": "2024-11-16T01:15:43.034Z"
   },
   {
    "duration": 18,
    "start_time": "2024-11-16T01:15:43.047Z"
   },
   {
    "duration": 13,
    "start_time": "2024-11-16T01:15:43.067Z"
   },
   {
    "duration": 12,
    "start_time": "2024-11-16T01:15:43.082Z"
   },
   {
    "duration": 10,
    "start_time": "2024-11-16T01:15:43.096Z"
   },
   {
    "duration": 7,
    "start_time": "2024-11-16T01:15:43.131Z"
   },
   {
    "duration": 6,
    "start_time": "2024-11-16T01:15:43.140Z"
   },
   {
    "duration": 6,
    "start_time": "2024-11-16T01:15:43.148Z"
   },
   {
    "duration": 7,
    "start_time": "2024-11-16T01:15:43.156Z"
   },
   {
    "duration": 14,
    "start_time": "2024-11-16T01:15:43.165Z"
   },
   {
    "duration": 10,
    "start_time": "2024-11-16T01:15:43.181Z"
   },
   {
    "duration": 6,
    "start_time": "2024-11-16T01:15:43.230Z"
   },
   {
    "duration": 4,
    "start_time": "2024-11-16T01:15:43.238Z"
   },
   {
    "duration": 7,
    "start_time": "2024-11-16T01:15:43.244Z"
   },
   {
    "duration": 10,
    "start_time": "2024-11-16T01:15:43.253Z"
   },
   {
    "duration": 175,
    "start_time": "2024-11-16T01:15:43.265Z"
   },
   {
    "duration": 13,
    "start_time": "2024-11-16T01:15:43.442Z"
   },
   {
    "duration": 109,
    "start_time": "2024-11-16T01:15:43.457Z"
   },
   {
    "duration": 13,
    "start_time": "2024-11-16T01:15:43.568Z"
   },
   {
    "duration": 7,
    "start_time": "2024-11-16T01:15:43.586Z"
   },
   {
    "duration": 13,
    "start_time": "2024-11-16T01:15:43.595Z"
   },
   {
    "duration": 2,
    "start_time": "2024-11-16T01:15:43.610Z"
   },
   {
    "duration": 8,
    "start_time": "2024-11-16T01:15:43.632Z"
   },
   {
    "duration": 170,
    "start_time": "2024-11-16T01:15:43.643Z"
   },
   {
    "duration": 145,
    "start_time": "2024-11-16T01:15:43.817Z"
   },
   {
    "duration": 5,
    "start_time": "2024-11-16T01:15:43.964Z"
   },
   {
    "duration": 252,
    "start_time": "2024-11-16T01:20:00.883Z"
   },
   {
    "duration": 23,
    "start_time": "2024-11-16T01:21:18.856Z"
   },
   {
    "duration": 16,
    "start_time": "2024-11-16T01:21:28.222Z"
   },
   {
    "duration": 15,
    "start_time": "2024-11-16T01:23:17.180Z"
   },
   {
    "duration": 6,
    "start_time": "2024-11-16T01:35:25.005Z"
   },
   {
    "duration": 18,
    "start_time": "2024-11-16T01:35:33.465Z"
   },
   {
    "duration": 6,
    "start_time": "2024-11-16T01:36:08.844Z"
   },
   {
    "duration": 17,
    "start_time": "2024-11-16T01:36:12.440Z"
   },
   {
    "duration": 8,
    "start_time": "2024-11-16T01:36:31.889Z"
   },
   {
    "duration": 271,
    "start_time": "2024-11-16T01:45:50.008Z"
   },
   {
    "duration": 252,
    "start_time": "2024-11-16T01:46:17.125Z"
   },
   {
    "duration": 5,
    "start_time": "2024-11-16T02:12:23.238Z"
   },
   {
    "duration": 6,
    "start_time": "2024-11-16T02:12:34.010Z"
   },
   {
    "duration": 9,
    "start_time": "2024-11-16T02:12:35.402Z"
   },
   {
    "duration": 220,
    "start_time": "2024-11-16T02:28:26.138Z"
   },
   {
    "duration": 283,
    "start_time": "2024-11-16T02:54:26.727Z"
   },
   {
    "duration": 238,
    "start_time": "2024-11-16T02:54:40.449Z"
   },
   {
    "duration": 2404,
    "start_time": "2024-11-16T04:03:31.678Z"
   },
   {
    "duration": 10,
    "start_time": "2024-11-16T04:03:34.085Z"
   },
   {
    "duration": 12,
    "start_time": "2024-11-16T04:03:34.097Z"
   },
   {
    "duration": 3,
    "start_time": "2024-11-16T04:03:34.111Z"
   },
   {
    "duration": 9,
    "start_time": "2024-11-16T04:03:34.115Z"
   },
   {
    "duration": 5,
    "start_time": "2024-11-16T04:03:34.125Z"
   },
   {
    "duration": 8,
    "start_time": "2024-11-16T04:03:34.131Z"
   },
   {
    "duration": 3,
    "start_time": "2024-11-16T04:03:34.140Z"
   },
   {
    "duration": 7,
    "start_time": "2024-11-16T04:03:34.145Z"
   },
   {
    "duration": 15,
    "start_time": "2024-11-16T04:03:34.156Z"
   },
   {
    "duration": 39,
    "start_time": "2024-11-16T04:03:34.172Z"
   },
   {
    "duration": 7,
    "start_time": "2024-11-16T04:03:34.213Z"
   },
   {
    "duration": 7,
    "start_time": "2024-11-16T04:03:34.222Z"
   },
   {
    "duration": 4,
    "start_time": "2024-11-16T04:03:34.231Z"
   },
   {
    "duration": 4,
    "start_time": "2024-11-16T04:03:34.236Z"
   },
   {
    "duration": 3,
    "start_time": "2024-11-16T04:03:34.242Z"
   },
   {
    "duration": 5,
    "start_time": "2024-11-16T04:03:34.247Z"
   },
   {
    "duration": 9,
    "start_time": "2024-11-16T04:03:34.254Z"
   },
   {
    "duration": 48,
    "start_time": "2024-11-16T04:03:34.265Z"
   },
   {
    "duration": 4,
    "start_time": "2024-11-16T04:03:34.314Z"
   },
   {
    "duration": 4,
    "start_time": "2024-11-16T04:03:34.319Z"
   },
   {
    "duration": 6,
    "start_time": "2024-11-16T04:03:34.324Z"
   },
   {
    "duration": 9,
    "start_time": "2024-11-16T04:03:34.331Z"
   },
   {
    "duration": 167,
    "start_time": "2024-11-16T04:03:34.342Z"
   },
   {
    "duration": 9,
    "start_time": "2024-11-16T04:03:34.510Z"
   },
   {
    "duration": 107,
    "start_time": "2024-11-16T04:03:34.521Z"
   },
   {
    "duration": 8,
    "start_time": "2024-11-16T04:03:34.630Z"
   },
   {
    "duration": 5,
    "start_time": "2024-11-16T04:03:34.642Z"
   },
   {
    "duration": 11,
    "start_time": "2024-11-16T04:03:34.648Z"
   },
   {
    "duration": 2,
    "start_time": "2024-11-16T04:03:34.661Z"
   },
   {
    "duration": 5,
    "start_time": "2024-11-16T04:03:34.665Z"
   },
   {
    "duration": 4,
    "start_time": "2024-11-16T04:03:34.671Z"
   },
   {
    "duration": 174,
    "start_time": "2024-11-16T04:03:34.677Z"
   },
   {
    "duration": 139,
    "start_time": "2024-11-16T04:03:34.853Z"
   },
   {
    "duration": 15,
    "start_time": "2024-11-16T04:03:34.994Z"
   },
   {
    "duration": 9,
    "start_time": "2024-11-16T04:03:35.010Z"
   },
   {
    "duration": 262,
    "start_time": "2024-11-16T04:03:35.021Z"
   },
   {
    "duration": 161,
    "start_time": "2024-11-16T04:03:35.284Z"
   },
   {
    "duration": 227,
    "start_time": "2024-11-16T04:03:35.447Z"
   },
   {
    "duration": 3,
    "start_time": "2024-11-16T04:03:35.675Z"
   },
   {
    "duration": 8,
    "start_time": "2024-11-16T04:04:36.219Z"
   },
   {
    "duration": 119,
    "start_time": "2024-11-16T04:09:39.919Z"
   },
   {
    "duration": 6,
    "start_time": "2024-11-16T04:09:51.419Z"
   },
   {
    "duration": 9,
    "start_time": "2024-11-16T04:09:58.266Z"
   },
   {
    "duration": 88,
    "start_time": "2024-11-16T04:10:50.418Z"
   },
   {
    "duration": 281,
    "start_time": "2024-11-16T04:14:56.778Z"
   },
   {
    "duration": 4,
    "start_time": "2024-11-16T04:16:43.640Z"
   },
   {
    "duration": 3,
    "start_time": "2024-11-16T04:16:55.499Z"
   },
   {
    "duration": 91,
    "start_time": "2024-11-16T04:17:23.861Z"
   },
   {
    "duration": 5,
    "start_time": "2024-11-16T04:34:48.278Z"
   },
   {
    "duration": 8,
    "start_time": "2024-11-16T04:42:06.759Z"
   },
   {
    "duration": 11,
    "start_time": "2024-11-16T04:42:58.192Z"
   },
   {
    "duration": 10,
    "start_time": "2024-11-16T04:45:19.759Z"
   },
   {
    "duration": 73,
    "start_time": "2024-11-16T04:45:32.939Z"
   },
   {
    "duration": 66,
    "start_time": "2024-11-16T04:45:56.341Z"
   },
   {
    "duration": 9,
    "start_time": "2024-11-16T04:49:12.599Z"
   },
   {
    "duration": 5,
    "start_time": "2024-11-16T04:50:08.662Z"
   },
   {
    "duration": 7,
    "start_time": "2024-11-16T04:55:12.711Z"
   },
   {
    "duration": 6,
    "start_time": "2024-11-16T04:56:34.652Z"
   },
   {
    "duration": 4,
    "start_time": "2024-11-16T04:57:24.260Z"
   },
   {
    "duration": 6,
    "start_time": "2024-11-16T04:57:53.972Z"
   },
   {
    "duration": 5,
    "start_time": "2024-11-16T04:58:50.798Z"
   },
   {
    "duration": 16,
    "start_time": "2024-11-16T05:04:33.978Z"
   },
   {
    "duration": 3,
    "start_time": "2024-11-16T05:09:09.058Z"
   },
   {
    "duration": 9,
    "start_time": "2024-11-16T05:09:44.331Z"
   },
   {
    "duration": 149,
    "start_time": "2024-11-16T05:10:12.578Z"
   },
   {
    "duration": 3,
    "start_time": "2024-11-16T05:13:02.678Z"
   },
   {
    "duration": 119,
    "start_time": "2024-11-16T05:14:34.760Z"
   },
   {
    "duration": 5,
    "start_time": "2024-11-16T05:17:22.384Z"
   },
   {
    "duration": 7,
    "start_time": "2024-11-16T05:18:30.938Z"
   },
   {
    "duration": 5,
    "start_time": "2024-11-16T05:32:21.119Z"
   },
   {
    "duration": 4,
    "start_time": "2024-11-16T05:33:12.791Z"
   },
   {
    "duration": 9,
    "start_time": "2024-11-16T05:37:10.119Z"
   },
   {
    "duration": 20,
    "start_time": "2024-11-16T06:09:24.047Z"
   },
   {
    "duration": 8,
    "start_time": "2024-11-16T06:09:54.249Z"
   },
   {
    "duration": 2592,
    "start_time": "2024-11-17T02:42:59.065Z"
   },
   {
    "duration": 9,
    "start_time": "2024-11-17T02:43:01.660Z"
   },
   {
    "duration": 8,
    "start_time": "2024-11-17T02:43:01.671Z"
   },
   {
    "duration": 3,
    "start_time": "2024-11-17T02:43:01.681Z"
   },
   {
    "duration": 24,
    "start_time": "2024-11-17T02:43:01.686Z"
   },
   {
    "duration": 4,
    "start_time": "2024-11-17T02:43:01.712Z"
   },
   {
    "duration": 7,
    "start_time": "2024-11-17T02:43:01.717Z"
   },
   {
    "duration": 3,
    "start_time": "2024-11-17T02:43:01.726Z"
   },
   {
    "duration": 7,
    "start_time": "2024-11-17T02:43:01.731Z"
   },
   {
    "duration": 13,
    "start_time": "2024-11-17T02:43:01.741Z"
   },
   {
    "duration": 11,
    "start_time": "2024-11-17T02:43:01.756Z"
   },
   {
    "duration": 10,
    "start_time": "2024-11-17T02:43:01.770Z"
   },
   {
    "duration": 34,
    "start_time": "2024-11-17T02:43:01.781Z"
   },
   {
    "duration": 5,
    "start_time": "2024-11-17T02:43:01.817Z"
   },
   {
    "duration": 3,
    "start_time": "2024-11-17T02:43:01.824Z"
   },
   {
    "duration": 4,
    "start_time": "2024-11-17T02:43:01.830Z"
   },
   {
    "duration": 5,
    "start_time": "2024-11-17T02:43:01.835Z"
   },
   {
    "duration": 9,
    "start_time": "2024-11-17T02:43:01.842Z"
   },
   {
    "duration": 8,
    "start_time": "2024-11-17T02:43:01.852Z"
   },
   {
    "duration": 4,
    "start_time": "2024-11-17T02:43:01.908Z"
   },
   {
    "duration": 4,
    "start_time": "2024-11-17T02:43:01.913Z"
   },
   {
    "duration": 5,
    "start_time": "2024-11-17T02:43:01.919Z"
   },
   {
    "duration": 8,
    "start_time": "2024-11-17T02:43:01.925Z"
   },
   {
    "duration": 158,
    "start_time": "2024-11-17T02:43:01.934Z"
   },
   {
    "duration": 15,
    "start_time": "2024-11-17T02:43:02.094Z"
   },
   {
    "duration": 86,
    "start_time": "2024-11-17T02:43:02.110Z"
   },
   {
    "duration": 7,
    "start_time": "2024-11-17T02:43:02.208Z"
   },
   {
    "duration": 4,
    "start_time": "2024-11-17T02:43:02.220Z"
   },
   {
    "duration": 10,
    "start_time": "2024-11-17T02:43:02.226Z"
   },
   {
    "duration": 2,
    "start_time": "2024-11-17T02:43:02.238Z"
   },
   {
    "duration": 5,
    "start_time": "2024-11-17T02:43:02.242Z"
   },
   {
    "duration": 5,
    "start_time": "2024-11-17T02:43:02.248Z"
   },
   {
    "duration": 171,
    "start_time": "2024-11-17T02:43:02.255Z"
   },
   {
    "duration": 143,
    "start_time": "2024-11-17T02:43:02.428Z"
   },
   {
    "duration": 6,
    "start_time": "2024-11-17T02:43:02.573Z"
   },
   {
    "duration": 9,
    "start_time": "2024-11-17T02:43:02.581Z"
   },
   {
    "duration": 270,
    "start_time": "2024-11-17T02:43:02.591Z"
   },
   {
    "duration": 150,
    "start_time": "2024-11-17T02:43:02.863Z"
   },
   {
    "duration": 226,
    "start_time": "2024-11-17T02:43:03.015Z"
   },
   {
    "duration": 117,
    "start_time": "2024-11-17T02:43:03.243Z"
   },
   {
    "duration": 9,
    "start_time": "2024-11-17T02:43:03.362Z"
   },
   {
    "duration": 96,
    "start_time": "2024-11-17T02:43:03.373Z"
   },
   {
    "duration": 2,
    "start_time": "2024-11-17T02:43:03.471Z"
   },
   {
    "duration": 96,
    "start_time": "2024-11-17T02:43:03.475Z"
   },
   {
    "duration": 4,
    "start_time": "2024-11-17T02:43:03.572Z"
   },
   {
    "duration": 114,
    "start_time": "2024-11-17T02:43:03.578Z"
   },
   {
    "duration": 2,
    "start_time": "2024-11-17T02:43:03.694Z"
   },
   {
    "duration": 171,
    "start_time": "2024-11-17T02:43:03.709Z"
   },
   {
    "duration": 6,
    "start_time": "2024-11-17T02:43:03.882Z"
   },
   {
    "duration": 66,
    "start_time": "2024-11-17T02:43:03.891Z"
   },
   {
    "duration": 78,
    "start_time": "2024-11-17T02:43:03.958Z"
   },
   {
    "duration": 4,
    "start_time": "2024-11-17T02:43:04.038Z"
   },
   {
    "duration": 6,
    "start_time": "2024-11-17T02:43:04.043Z"
   },
   {
    "duration": 5,
    "start_time": "2024-11-17T02:43:04.050Z"
   },
   {
    "duration": 5,
    "start_time": "2024-11-17T02:43:04.056Z"
   },
   {
    "duration": 6,
    "start_time": "2024-11-17T02:43:04.063Z"
   },
   {
    "duration": 5,
    "start_time": "2024-11-17T02:43:04.070Z"
   },
   {
    "duration": 15,
    "start_time": "2024-11-17T02:43:04.108Z"
   },
   {
    "duration": 4,
    "start_time": "2024-11-17T02:43:04.125Z"
   },
   {
    "duration": 7,
    "start_time": "2024-11-17T02:43:04.131Z"
   },
   {
    "duration": 6,
    "start_time": "2024-11-17T02:43:04.139Z"
   },
   {
    "duration": 2,
    "start_time": "2024-11-17T02:43:04.147Z"
   },
   {
    "duration": 7,
    "start_time": "2024-11-17T02:56:14.858Z"
   },
   {
    "duration": 7,
    "start_time": "2024-11-17T02:56:22.145Z"
   },
   {
    "duration": 617,
    "start_time": "2024-11-17T03:03:55.650Z"
   },
   {
    "duration": 10,
    "start_time": "2024-11-17T03:04:36.154Z"
   },
   {
    "duration": 5,
    "start_time": "2024-11-17T03:05:11.455Z"
   },
   {
    "duration": 4,
    "start_time": "2024-11-17T03:05:19.673Z"
   },
   {
    "duration": 6,
    "start_time": "2024-11-17T03:05:50.706Z"
   },
   {
    "duration": 4,
    "start_time": "2024-11-17T03:05:54.133Z"
   },
   {
    "duration": 6,
    "start_time": "2024-11-17T03:07:02.932Z"
   },
   {
    "duration": 4,
    "start_time": "2024-11-17T03:07:03.924Z"
   },
   {
    "duration": 3,
    "start_time": "2024-11-17T03:14:47.497Z"
   },
   {
    "duration": 4,
    "start_time": "2024-11-17T03:14:55.732Z"
   },
   {
    "duration": 5,
    "start_time": "2024-11-17T03:15:13.764Z"
   },
   {
    "duration": 5,
    "start_time": "2024-11-17T03:15:28.994Z"
   },
   {
    "duration": 4,
    "start_time": "2024-11-17T03:15:41.573Z"
   },
   {
    "duration": 7,
    "start_time": "2024-11-17T03:31:43.989Z"
   },
   {
    "duration": 5,
    "start_time": "2024-11-17T03:33:46.074Z"
   },
   {
    "duration": 6,
    "start_time": "2024-11-17T03:34:15.567Z"
   },
   {
    "duration": 2459,
    "start_time": "2024-11-17T11:28:30.270Z"
   },
   {
    "duration": 9,
    "start_time": "2024-11-17T11:28:32.732Z"
   },
   {
    "duration": 9,
    "start_time": "2024-11-17T11:28:32.743Z"
   },
   {
    "duration": 3,
    "start_time": "2024-11-17T11:28:32.753Z"
   },
   {
    "duration": 9,
    "start_time": "2024-11-17T11:28:32.759Z"
   },
   {
    "duration": 4,
    "start_time": "2024-11-17T11:28:32.769Z"
   },
   {
    "duration": 37,
    "start_time": "2024-11-17T11:28:32.774Z"
   },
   {
    "duration": 3,
    "start_time": "2024-11-17T11:28:32.814Z"
   },
   {
    "duration": 7,
    "start_time": "2024-11-17T11:28:32.819Z"
   },
   {
    "duration": 13,
    "start_time": "2024-11-17T11:28:32.827Z"
   },
   {
    "duration": 10,
    "start_time": "2024-11-17T11:28:32.841Z"
   },
   {
    "duration": 9,
    "start_time": "2024-11-17T11:28:32.852Z"
   },
   {
    "duration": 7,
    "start_time": "2024-11-17T11:28:32.862Z"
   },
   {
    "duration": 33,
    "start_time": "2024-11-17T11:28:32.873Z"
   },
   {
    "duration": 3,
    "start_time": "2024-11-17T11:28:32.908Z"
   },
   {
    "duration": 5,
    "start_time": "2024-11-17T11:28:32.913Z"
   },
   {
    "duration": 5,
    "start_time": "2024-11-17T11:28:32.920Z"
   },
   {
    "duration": 9,
    "start_time": "2024-11-17T11:28:32.926Z"
   },
   {
    "duration": 7,
    "start_time": "2024-11-17T11:28:32.937Z"
   },
   {
    "duration": 4,
    "start_time": "2024-11-17T11:28:32.946Z"
   },
   {
    "duration": 4,
    "start_time": "2024-11-17T11:28:32.951Z"
   },
   {
    "duration": 5,
    "start_time": "2024-11-17T11:28:32.956Z"
   },
   {
    "duration": 8,
    "start_time": "2024-11-17T11:28:33.005Z"
   },
   {
    "duration": 150,
    "start_time": "2024-11-17T11:28:33.015Z"
   },
   {
    "duration": 10,
    "start_time": "2024-11-17T11:28:33.166Z"
   },
   {
    "duration": 99,
    "start_time": "2024-11-17T11:28:33.177Z"
   },
   {
    "duration": 8,
    "start_time": "2024-11-17T11:28:33.278Z"
   },
   {
    "duration": 18,
    "start_time": "2024-11-17T11:28:33.287Z"
   },
   {
    "duration": 11,
    "start_time": "2024-11-17T11:28:33.307Z"
   },
   {
    "duration": 10,
    "start_time": "2024-11-17T11:28:33.319Z"
   },
   {
    "duration": 5,
    "start_time": "2024-11-17T11:28:33.331Z"
   },
   {
    "duration": 4,
    "start_time": "2024-11-17T11:28:33.338Z"
   },
   {
    "duration": 149,
    "start_time": "2024-11-17T11:28:33.344Z"
   },
   {
    "duration": 142,
    "start_time": "2024-11-17T11:28:33.495Z"
   },
   {
    "duration": 6,
    "start_time": "2024-11-17T11:28:33.639Z"
   },
   {
    "duration": 10,
    "start_time": "2024-11-17T11:28:33.648Z"
   },
   {
    "duration": 229,
    "start_time": "2024-11-17T11:28:33.659Z"
   },
   {
    "duration": 158,
    "start_time": "2024-11-17T11:28:33.889Z"
   },
   {
    "duration": 221,
    "start_time": "2024-11-17T11:28:34.049Z"
   },
   {
    "duration": 142,
    "start_time": "2024-11-17T11:28:34.272Z"
   },
   {
    "duration": 7,
    "start_time": "2024-11-17T11:28:34.420Z"
   },
   {
    "duration": 95,
    "start_time": "2024-11-17T11:28:34.428Z"
   },
   {
    "duration": 3,
    "start_time": "2024-11-17T11:28:34.525Z"
   },
   {
    "duration": 143,
    "start_time": "2024-11-17T11:28:34.530Z"
   },
   {
    "duration": 4,
    "start_time": "2024-11-17T11:28:34.674Z"
   },
   {
    "duration": 114,
    "start_time": "2024-11-17T11:28:34.680Z"
   },
   {
    "duration": 3,
    "start_time": "2024-11-17T11:28:34.797Z"
   },
   {
    "duration": 110,
    "start_time": "2024-11-17T11:28:34.805Z"
   },
   {
    "duration": 4,
    "start_time": "2024-11-17T11:28:34.917Z"
   },
   {
    "duration": 58,
    "start_time": "2024-11-17T11:28:34.923Z"
   },
   {
    "duration": 92,
    "start_time": "2024-11-17T11:28:34.983Z"
   },
   {
    "duration": 4,
    "start_time": "2024-11-17T11:28:35.077Z"
   },
   {
    "duration": 24,
    "start_time": "2024-11-17T11:28:35.083Z"
   },
   {
    "duration": 4,
    "start_time": "2024-11-17T11:28:35.108Z"
   },
   {
    "duration": 5,
    "start_time": "2024-11-17T11:28:35.114Z"
   },
   {
    "duration": 6,
    "start_time": "2024-11-17T11:28:35.120Z"
   },
   {
    "duration": 4,
    "start_time": "2024-11-17T11:28:35.127Z"
   },
   {
    "duration": 16,
    "start_time": "2024-11-17T11:28:35.132Z"
   },
   {
    "duration": 4,
    "start_time": "2024-11-17T11:28:35.150Z"
   },
   {
    "duration": 6,
    "start_time": "2024-11-17T11:28:35.155Z"
   },
   {
    "duration": 43,
    "start_time": "2024-11-17T11:28:35.163Z"
   },
   {
    "duration": 7,
    "start_time": "2024-11-17T11:28:35.207Z"
   },
   {
    "duration": 6,
    "start_time": "2024-11-17T11:28:35.216Z"
   },
   {
    "duration": 5,
    "start_time": "2024-11-17T11:28:35.223Z"
   },
   {
    "duration": 5,
    "start_time": "2024-11-17T11:28:35.230Z"
   },
   {
    "duration": 5,
    "start_time": "2024-11-17T11:28:35.236Z"
   },
   {
    "duration": 3,
    "start_time": "2024-11-17T11:28:35.242Z"
   },
   {
    "duration": 3,
    "start_time": "2024-11-17T11:29:34.011Z"
   },
   {
    "duration": 6,
    "start_time": "2024-11-17T11:29:44.251Z"
   },
   {
    "duration": 16,
    "start_time": "2024-11-17T11:31:16.091Z"
   },
   {
    "duration": 4,
    "start_time": "2024-11-17T11:35:50.372Z"
   },
   {
    "duration": 3,
    "start_time": "2024-11-17T11:36:25.632Z"
   },
   {
    "duration": 4,
    "start_time": "2024-11-17T11:42:12.331Z"
   },
   {
    "duration": 11,
    "start_time": "2024-11-17T11:42:18.411Z"
   },
   {
    "duration": 810,
    "start_time": "2024-11-17T11:50:35.051Z"
   },
   {
    "duration": 9,
    "start_time": "2024-11-17T11:51:26.051Z"
   },
   {
    "duration": 4,
    "start_time": "2024-11-17T11:51:36.583Z"
   },
   {
    "duration": 6,
    "start_time": "2024-11-17T11:55:28.263Z"
   },
   {
    "duration": 3,
    "start_time": "2024-11-17T12:00:08.843Z"
   },
   {
    "duration": 6,
    "start_time": "2024-11-17T12:00:08.848Z"
   },
   {
    "duration": 6,
    "start_time": "2024-11-17T12:00:08.856Z"
   },
   {
    "duration": 2,
    "start_time": "2024-11-17T12:00:08.864Z"
   },
   {
    "duration": 8,
    "start_time": "2024-11-17T12:00:08.868Z"
   },
   {
    "duration": 3,
    "start_time": "2024-11-17T12:00:08.878Z"
   },
   {
    "duration": 7,
    "start_time": "2024-11-17T12:00:08.882Z"
   },
   {
    "duration": 3,
    "start_time": "2024-11-17T12:00:08.892Z"
   },
   {
    "duration": 12,
    "start_time": "2024-11-17T12:00:08.897Z"
   },
   {
    "duration": 10,
    "start_time": "2024-11-17T12:00:08.910Z"
   },
   {
    "duration": 9,
    "start_time": "2024-11-17T12:00:08.921Z"
   },
   {
    "duration": 8,
    "start_time": "2024-11-17T12:00:08.931Z"
   },
   {
    "duration": 8,
    "start_time": "2024-11-17T12:00:08.940Z"
   },
   {
    "duration": 5,
    "start_time": "2024-11-17T12:00:08.951Z"
   },
   {
    "duration": 4,
    "start_time": "2024-11-17T12:00:08.957Z"
   },
   {
    "duration": 44,
    "start_time": "2024-11-17T12:00:08.962Z"
   },
   {
    "duration": 5,
    "start_time": "2024-11-17T12:00:09.007Z"
   },
   {
    "duration": 10,
    "start_time": "2024-11-17T12:00:09.014Z"
   },
   {
    "duration": 8,
    "start_time": "2024-11-17T12:00:09.025Z"
   },
   {
    "duration": 4,
    "start_time": "2024-11-17T12:00:09.034Z"
   },
   {
    "duration": 3,
    "start_time": "2024-11-17T12:00:09.040Z"
   },
   {
    "duration": 4,
    "start_time": "2024-11-17T12:00:09.045Z"
   },
   {
    "duration": 8,
    "start_time": "2024-11-17T12:00:09.050Z"
   },
   {
    "duration": 142,
    "start_time": "2024-11-17T12:00:09.105Z"
   },
   {
    "duration": 9,
    "start_time": "2024-11-17T12:00:09.249Z"
   },
   {
    "duration": 98,
    "start_time": "2024-11-17T12:00:09.260Z"
   },
   {
    "duration": 9,
    "start_time": "2024-11-17T12:00:09.360Z"
   },
   {
    "duration": 6,
    "start_time": "2024-11-17T12:00:09.371Z"
   },
   {
    "duration": 34,
    "start_time": "2024-11-17T12:00:09.378Z"
   },
   {
    "duration": 2,
    "start_time": "2024-11-17T12:00:09.414Z"
   },
   {
    "duration": 5,
    "start_time": "2024-11-17T12:00:09.418Z"
   },
   {
    "duration": 4,
    "start_time": "2024-11-17T12:00:09.428Z"
   },
   {
    "duration": 151,
    "start_time": "2024-11-17T12:00:09.433Z"
   },
   {
    "duration": 140,
    "start_time": "2024-11-17T12:00:09.586Z"
   },
   {
    "duration": 6,
    "start_time": "2024-11-17T12:00:09.728Z"
   },
   {
    "duration": 8,
    "start_time": "2024-11-17T12:00:09.736Z"
   },
   {
    "duration": 233,
    "start_time": "2024-11-17T12:00:09.746Z"
   },
   {
    "duration": 155,
    "start_time": "2024-11-17T12:00:09.981Z"
   },
   {
    "duration": 230,
    "start_time": "2024-11-17T12:00:10.139Z"
   },
   {
    "duration": 112,
    "start_time": "2024-11-17T12:00:10.371Z"
   },
   {
    "duration": 8,
    "start_time": "2024-11-17T12:00:10.485Z"
   },
   {
    "duration": 92,
    "start_time": "2024-11-17T12:00:10.494Z"
   },
   {
    "duration": 3,
    "start_time": "2024-11-17T12:00:10.588Z"
   },
   {
    "duration": 97,
    "start_time": "2024-11-17T12:00:10.593Z"
   },
   {
    "duration": 14,
    "start_time": "2024-11-17T12:00:10.692Z"
   },
   {
    "duration": 111,
    "start_time": "2024-11-17T12:00:10.707Z"
   },
   {
    "duration": 3,
    "start_time": "2024-11-17T12:00:10.820Z"
   },
   {
    "duration": 114,
    "start_time": "2024-11-17T12:00:10.824Z"
   },
   {
    "duration": 4,
    "start_time": "2024-11-17T12:00:10.940Z"
   },
   {
    "duration": 68,
    "start_time": "2024-11-17T12:00:10.946Z"
   },
   {
    "duration": 67,
    "start_time": "2024-11-17T12:00:11.015Z"
   },
   {
    "duration": 22,
    "start_time": "2024-11-17T12:00:11.083Z"
   },
   {
    "duration": 5,
    "start_time": "2024-11-17T12:00:11.107Z"
   },
   {
    "duration": 5,
    "start_time": "2024-11-17T12:00:11.114Z"
   },
   {
    "duration": 5,
    "start_time": "2024-11-17T12:00:11.120Z"
   },
   {
    "duration": 5,
    "start_time": "2024-11-17T12:00:11.127Z"
   },
   {
    "duration": 5,
    "start_time": "2024-11-17T12:00:11.134Z"
   },
   {
    "duration": 15,
    "start_time": "2024-11-17T12:00:11.140Z"
   },
   {
    "duration": 3,
    "start_time": "2024-11-17T12:00:11.157Z"
   },
   {
    "duration": 48,
    "start_time": "2024-11-17T12:00:11.162Z"
   },
   {
    "duration": 6,
    "start_time": "2024-11-17T12:00:11.211Z"
   },
   {
    "duration": 6,
    "start_time": "2024-11-17T12:00:11.218Z"
   },
   {
    "duration": 4,
    "start_time": "2024-11-17T12:00:11.225Z"
   },
   {
    "duration": 10,
    "start_time": "2024-11-17T12:00:11.230Z"
   },
   {
    "duration": 5,
    "start_time": "2024-11-17T12:00:11.242Z"
   },
   {
    "duration": 5,
    "start_time": "2024-11-17T12:00:11.248Z"
   },
   {
    "duration": 15,
    "start_time": "2024-11-17T12:00:11.255Z"
   },
   {
    "duration": 5,
    "start_time": "2024-11-17T12:00:11.305Z"
   },
   {
    "duration": 9,
    "start_time": "2024-11-17T12:00:11.311Z"
   },
   {
    "duration": 6,
    "start_time": "2024-11-17T12:00:11.322Z"
   },
   {
    "duration": 8,
    "start_time": "2024-11-17T12:06:36.109Z"
   },
   {
    "duration": 2866,
    "start_time": "2024-11-18T19:11:34.371Z"
   },
   {
    "duration": 93,
    "start_time": "2024-11-18T19:11:37.241Z"
   },
   {
    "duration": 11,
    "start_time": "2024-11-18T19:11:37.335Z"
   },
   {
    "duration": 3,
    "start_time": "2024-11-18T19:11:37.348Z"
   },
   {
    "duration": 9,
    "start_time": "2024-11-18T19:11:37.352Z"
   },
   {
    "duration": 4,
    "start_time": "2024-11-18T19:11:37.364Z"
   },
   {
    "duration": 9,
    "start_time": "2024-11-18T19:11:37.369Z"
   },
   {
    "duration": 4,
    "start_time": "2024-11-18T19:11:37.379Z"
   },
   {
    "duration": 8,
    "start_time": "2024-11-18T19:11:37.384Z"
   },
   {
    "duration": 29,
    "start_time": "2024-11-18T19:11:37.414Z"
   },
   {
    "duration": 10,
    "start_time": "2024-11-18T19:11:37.445Z"
   },
   {
    "duration": 10,
    "start_time": "2024-11-18T19:11:37.457Z"
   },
   {
    "duration": 8,
    "start_time": "2024-11-18T19:11:37.469Z"
   },
   {
    "duration": 7,
    "start_time": "2024-11-18T19:11:37.478Z"
   },
   {
    "duration": 4,
    "start_time": "2024-11-18T19:11:37.486Z"
   },
   {
    "duration": 20,
    "start_time": "2024-11-18T19:11:37.492Z"
   },
   {
    "duration": 12,
    "start_time": "2024-11-18T19:11:37.514Z"
   },
   {
    "duration": 9,
    "start_time": "2024-11-18T19:11:37.532Z"
   },
   {
    "duration": 8,
    "start_time": "2024-11-18T19:11:37.543Z"
   },
   {
    "duration": 4,
    "start_time": "2024-11-18T19:11:37.554Z"
   },
   {
    "duration": 4,
    "start_time": "2024-11-18T19:11:37.559Z"
   },
   {
    "duration": 5,
    "start_time": "2024-11-18T19:11:37.565Z"
   },
   {
    "duration": 8,
    "start_time": "2024-11-18T19:11:37.571Z"
   },
   {
    "duration": 184,
    "start_time": "2024-11-18T19:11:37.580Z"
   },
   {
    "duration": 10,
    "start_time": "2024-11-18T19:11:37.765Z"
   },
   {
    "duration": 112,
    "start_time": "2024-11-18T19:11:37.776Z"
   },
   {
    "duration": 8,
    "start_time": "2024-11-18T19:11:37.890Z"
   },
   {
    "duration": 17,
    "start_time": "2024-11-18T19:11:37.903Z"
   },
   {
    "duration": 14,
    "start_time": "2024-11-18T19:11:37.934Z"
   },
   {
    "duration": 2,
    "start_time": "2024-11-18T19:11:37.951Z"
   },
   {
    "duration": 5,
    "start_time": "2024-11-18T19:11:37.955Z"
   },
   {
    "duration": 5,
    "start_time": "2024-11-18T19:11:37.961Z"
   },
   {
    "duration": 163,
    "start_time": "2024-11-18T19:11:37.967Z"
   },
   {
    "duration": 155,
    "start_time": "2024-11-18T19:11:38.132Z"
   },
   {
    "duration": 7,
    "start_time": "2024-11-18T19:11:38.289Z"
   },
   {
    "duration": 10,
    "start_time": "2024-11-18T19:11:38.297Z"
   },
   {
    "duration": 262,
    "start_time": "2024-11-18T19:11:38.309Z"
   },
   {
    "duration": 179,
    "start_time": "2024-11-18T19:11:38.573Z"
   },
   {
    "duration": 246,
    "start_time": "2024-11-18T19:11:38.754Z"
   },
   {
    "duration": 141,
    "start_time": "2024-11-18T19:11:39.007Z"
   },
   {
    "duration": 9,
    "start_time": "2024-11-18T19:11:39.150Z"
   },
   {
    "duration": 109,
    "start_time": "2024-11-18T19:11:39.160Z"
   },
   {
    "duration": 3,
    "start_time": "2024-11-18T19:11:39.271Z"
   },
   {
    "duration": 104,
    "start_time": "2024-11-18T19:11:39.275Z"
   },
   {
    "duration": 5,
    "start_time": "2024-11-18T19:11:39.380Z"
   },
   {
    "duration": 132,
    "start_time": "2024-11-18T19:11:39.386Z"
   },
   {
    "duration": 3,
    "start_time": "2024-11-18T19:11:39.520Z"
   },
   {
    "duration": 138,
    "start_time": "2024-11-18T19:11:39.525Z"
   },
   {
    "duration": 5,
    "start_time": "2024-11-18T19:11:39.665Z"
   },
   {
    "duration": 84,
    "start_time": "2024-11-18T19:11:39.671Z"
   },
   {
    "duration": 89,
    "start_time": "2024-11-18T19:11:39.757Z"
   },
   {
    "duration": 5,
    "start_time": "2024-11-18T19:11:39.849Z"
   },
   {
    "duration": 6,
    "start_time": "2024-11-18T19:11:39.855Z"
   },
   {
    "duration": 3,
    "start_time": "2024-11-18T19:11:39.863Z"
   },
   {
    "duration": 4,
    "start_time": "2024-11-18T19:11:39.868Z"
   },
   {
    "duration": 6,
    "start_time": "2024-11-18T19:11:39.874Z"
   },
   {
    "duration": 4,
    "start_time": "2024-11-18T19:11:39.882Z"
   },
   {
    "duration": 26,
    "start_time": "2024-11-18T19:11:39.918Z"
   },
   {
    "duration": 4,
    "start_time": "2024-11-18T19:11:39.945Z"
   },
   {
    "duration": 7,
    "start_time": "2024-11-18T19:11:39.951Z"
   },
   {
    "duration": 6,
    "start_time": "2024-11-18T19:11:39.959Z"
   },
   {
    "duration": 5,
    "start_time": "2024-11-18T19:11:39.966Z"
   },
   {
    "duration": 4,
    "start_time": "2024-11-18T19:11:39.973Z"
   },
   {
    "duration": 47,
    "start_time": "2024-11-18T19:11:39.978Z"
   },
   {
    "duration": 7,
    "start_time": "2024-11-18T19:11:40.029Z"
   },
   {
    "duration": 5,
    "start_time": "2024-11-18T19:11:40.038Z"
   },
   {
    "duration": 16,
    "start_time": "2024-11-18T19:11:40.045Z"
   },
   {
    "duration": 4,
    "start_time": "2024-11-18T19:11:40.063Z"
   },
   {
    "duration": 10,
    "start_time": "2024-11-18T19:11:40.068Z"
   },
   {
    "duration": 8,
    "start_time": "2024-11-18T19:11:40.079Z"
   },
   {
    "duration": 826,
    "start_time": "2024-11-18T19:17:18.568Z"
   },
   {
    "duration": 5,
    "start_time": "2024-11-18T19:17:35.396Z"
   },
   {
    "duration": 5,
    "start_time": "2024-11-18T19:17:39.360Z"
   },
   {
    "duration": 7,
    "start_time": "2024-11-18T19:17:59.575Z"
   },
   {
    "duration": 6,
    "start_time": "2024-11-18T19:18:13.340Z"
   },
   {
    "duration": 8,
    "start_time": "2024-11-18T19:18:26.631Z"
   },
   {
    "duration": 7,
    "start_time": "2024-11-18T19:18:33.536Z"
   },
   {
    "duration": 8,
    "start_time": "2024-11-18T19:18:52.764Z"
   },
   {
    "duration": 8,
    "start_time": "2024-11-18T19:18:57.176Z"
   },
   {
    "duration": 8,
    "start_time": "2024-11-18T19:19:04.104Z"
   },
   {
    "duration": 7,
    "start_time": "2024-11-18T19:19:16.809Z"
   },
   {
    "duration": 9,
    "start_time": "2024-11-18T19:19:22.295Z"
   },
   {
    "duration": 3,
    "start_time": "2024-11-18T19:25:19.698Z"
   },
   {
    "duration": 3,
    "start_time": "2024-11-18T19:25:50.595Z"
   },
   {
    "duration": 745,
    "start_time": "2024-11-19T15:35:24.387Z"
   },
   {
    "duration": 8,
    "start_time": "2024-11-19T15:35:25.135Z"
   },
   {
    "duration": 9,
    "start_time": "2024-11-19T15:35:25.145Z"
   },
   {
    "duration": 2,
    "start_time": "2024-11-19T15:35:25.157Z"
   },
   {
    "duration": 8,
    "start_time": "2024-11-19T15:35:25.161Z"
   },
   {
    "duration": 4,
    "start_time": "2024-11-19T15:35:25.170Z"
   },
   {
    "duration": 6,
    "start_time": "2024-11-19T15:35:25.176Z"
   },
   {
    "duration": 22,
    "start_time": "2024-11-19T15:35:25.184Z"
   },
   {
    "duration": 9,
    "start_time": "2024-11-19T15:35:25.207Z"
   },
   {
    "duration": 6,
    "start_time": "2024-11-19T15:35:25.217Z"
   },
   {
    "duration": 3,
    "start_time": "2024-11-19T15:35:25.224Z"
   },
   {
    "duration": 12,
    "start_time": "2024-11-19T15:35:25.229Z"
   },
   {
    "duration": 10,
    "start_time": "2024-11-19T15:35:25.243Z"
   },
   {
    "duration": 8,
    "start_time": "2024-11-19T15:35:25.256Z"
   },
   {
    "duration": 41,
    "start_time": "2024-11-19T15:35:25.265Z"
   },
   {
    "duration": 5,
    "start_time": "2024-11-19T15:35:25.308Z"
   },
   {
    "duration": 3,
    "start_time": "2024-11-19T15:35:25.315Z"
   },
   {
    "duration": 4,
    "start_time": "2024-11-19T15:35:25.320Z"
   },
   {
    "duration": 5,
    "start_time": "2024-11-19T15:35:25.326Z"
   },
   {
    "duration": 8,
    "start_time": "2024-11-19T15:35:25.333Z"
   },
   {
    "duration": 7,
    "start_time": "2024-11-19T15:35:25.343Z"
   },
   {
    "duration": 4,
    "start_time": "2024-11-19T15:35:25.352Z"
   },
   {
    "duration": 48,
    "start_time": "2024-11-19T15:35:25.358Z"
   },
   {
    "duration": 5,
    "start_time": "2024-11-19T15:35:25.408Z"
   },
   {
    "duration": 8,
    "start_time": "2024-11-19T15:35:25.414Z"
   },
   {
    "duration": 159,
    "start_time": "2024-11-19T15:35:25.423Z"
   },
   {
    "duration": 10,
    "start_time": "2024-11-19T15:35:25.584Z"
   },
   {
    "duration": 110,
    "start_time": "2024-11-19T15:35:25.595Z"
   },
   {
    "duration": 8,
    "start_time": "2024-11-19T15:35:25.706Z"
   },
   {
    "duration": 5,
    "start_time": "2024-11-19T15:35:25.716Z"
   },
   {
    "duration": 11,
    "start_time": "2024-11-19T15:35:25.722Z"
   },
   {
    "duration": 3,
    "start_time": "2024-11-19T15:35:25.734Z"
   },
   {
    "duration": 5,
    "start_time": "2024-11-19T15:35:25.739Z"
   },
   {
    "duration": 4,
    "start_time": "2024-11-19T15:35:25.745Z"
   },
   {
    "duration": 172,
    "start_time": "2024-11-19T15:35:25.751Z"
   },
   {
    "duration": 136,
    "start_time": "2024-11-19T15:35:25.925Z"
   },
   {
    "duration": 8,
    "start_time": "2024-11-19T15:35:26.062Z"
   },
   {
    "duration": 10,
    "start_time": "2024-11-19T15:35:26.071Z"
   },
   {
    "duration": 234,
    "start_time": "2024-11-19T15:35:26.084Z"
   },
   {
    "duration": 152,
    "start_time": "2024-11-19T15:35:26.320Z"
   },
   {
    "duration": 289,
    "start_time": "2024-11-19T15:35:26.478Z"
   },
   {
    "duration": 119,
    "start_time": "2024-11-19T15:35:26.769Z"
   },
   {
    "duration": 8,
    "start_time": "2024-11-19T15:35:26.890Z"
   },
   {
    "duration": 83,
    "start_time": "2024-11-19T15:35:26.905Z"
   },
   {
    "duration": 3,
    "start_time": "2024-11-19T15:35:26.989Z"
   },
   {
    "duration": 86,
    "start_time": "2024-11-19T15:35:27.005Z"
   },
   {
    "duration": 15,
    "start_time": "2024-11-19T15:35:27.092Z"
   },
   {
    "duration": 111,
    "start_time": "2024-11-19T15:35:27.109Z"
   },
   {
    "duration": 3,
    "start_time": "2024-11-19T15:35:27.221Z"
   },
   {
    "duration": 113,
    "start_time": "2024-11-19T15:35:27.226Z"
   },
   {
    "duration": 5,
    "start_time": "2024-11-19T15:35:27.340Z"
   },
   {
    "duration": 72,
    "start_time": "2024-11-19T15:35:27.347Z"
   },
   {
    "duration": 70,
    "start_time": "2024-11-19T15:35:27.422Z"
   },
   {
    "duration": 5,
    "start_time": "2024-11-19T15:35:27.504Z"
   },
   {
    "duration": 6,
    "start_time": "2024-11-19T15:35:27.510Z"
   },
   {
    "duration": 4,
    "start_time": "2024-11-19T15:35:27.517Z"
   },
   {
    "duration": 5,
    "start_time": "2024-11-19T15:35:27.522Z"
   },
   {
    "duration": 5,
    "start_time": "2024-11-19T15:35:27.529Z"
   },
   {
    "duration": 4,
    "start_time": "2024-11-19T15:35:27.536Z"
   },
   {
    "duration": 16,
    "start_time": "2024-11-19T15:35:27.542Z"
   },
   {
    "duration": 4,
    "start_time": "2024-11-19T15:35:27.559Z"
   },
   {
    "duration": 6,
    "start_time": "2024-11-19T15:35:27.605Z"
   },
   {
    "duration": 6,
    "start_time": "2024-11-19T15:35:27.613Z"
   },
   {
    "duration": 5,
    "start_time": "2024-11-19T15:35:27.621Z"
   },
   {
    "duration": 3,
    "start_time": "2024-11-19T15:35:27.629Z"
   },
   {
    "duration": 5,
    "start_time": "2024-11-19T15:35:27.633Z"
   },
   {
    "duration": 4,
    "start_time": "2024-11-19T15:35:27.639Z"
   },
   {
    "duration": 4,
    "start_time": "2024-11-19T15:35:27.645Z"
   },
   {
    "duration": 56,
    "start_time": "2024-11-19T15:35:27.651Z"
   },
   {
    "duration": 6,
    "start_time": "2024-11-19T15:35:27.708Z"
   },
   {
    "duration": 9,
    "start_time": "2024-11-19T15:35:27.715Z"
   },
   {
    "duration": 7,
    "start_time": "2024-11-19T15:35:27.726Z"
   }
  ],
  "kernelspec": {
   "display_name": "Python 3 (ipykernel)",
   "language": "python",
   "name": "python3"
  },
  "language_info": {
   "codemirror_mode": {
    "name": "ipython",
    "version": 3
   },
   "file_extension": ".py",
   "mimetype": "text/x-python",
   "name": "python",
   "nbconvert_exporter": "python",
   "pygments_lexer": "ipython3",
   "version": "3.9.19"
  },
  "toc": {
   "base_numbering": 1,
   "nav_menu": {},
   "number_sections": true,
   "sideBar": true,
   "skip_h1_title": true,
   "title_cell": "Table of Contents",
   "title_sidebar": "Contents",
   "toc_cell": false,
   "toc_position": {},
   "toc_section_display": true,
   "toc_window_display": false
  }
 },
 "nbformat": 4,
 "nbformat_minor": 2
}
